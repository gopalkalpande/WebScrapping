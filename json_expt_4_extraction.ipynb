{
 "cells": [
  {
   "cell_type": "code",
   "execution_count": 1,
   "id": "c1463b23-d998-4cd7-a771-2586ed608f5f",
   "metadata": {},
   "outputs": [],
   "source": [
    "# import json\n",
    "\n",
    "# # Specify the path to the JSON file\n",
    "# file_path = \"data/inputJSONs/9.json\"\n",
    "\n",
    "# # Read the JSON file\n",
    "# with open(file_path, \"r\") as file:\n",
    "#     json_data = json.load(file)\n"
   ]
  },
  {
   "cell_type": "code",
   "execution_count": 2,
   "id": "2d4288d5-c1a8-447b-a81f-ea4f8abd0c03",
   "metadata": {},
   "outputs": [
    {
     "name": "stdout",
     "output_type": "stream",
     "text": [
      "./data/inputJSONs/169382.json\n"
     ]
    }
   ],
   "source": [
    "import os\n",
    "import random\n",
    "import jsonschema, json\n",
    "from genson import SchemaBuilder\n",
    "import pandas as pd \n",
    "\n",
    "# Path to the input JSONs folder\n",
    "folder_path = './data/inputJSONs'\n",
    "\n",
    "# Get a list of all hjson files in the folder\n",
    "hjson_files = [file for file in os.listdir(folder_path) if file.endswith('.json')]\n",
    "\n",
    "# Select 50 random hjson files\n",
    "random_files = random.sample(hjson_files, 1)\n",
    "\n",
    "file_path = os.path.join(folder_path, random_files[0])\n",
    "\n",
    "print(file_path)"
   ]
  },
  {
   "cell_type": "code",
   "execution_count": 3,
   "id": "d7aa37f7-8141-4685-b049-f843a6aa0683",
   "metadata": {},
   "outputs": [],
   "source": [
    "file_path = './data/inputJSONs/248773.json'"
   ]
  },
  {
   "cell_type": "code",
   "execution_count": 4,
   "id": "345a17a7-5c81-4fc3-bb18-7842140fb953",
   "metadata": {},
   "outputs": [],
   "source": [
    "# Read the JSON file\n",
    "with open(file_path, \"r\") as file:\n",
    "    json_data = json.load(file)"
   ]
  },
  {
   "cell_type": "code",
   "execution_count": 5,
   "id": "d2987ffc-adab-43f9-9637-6a434aa90ae2",
   "metadata": {},
   "outputs": [],
   "source": [
    "json_keys = list(json_data.keys())"
   ]
  },
  {
   "cell_type": "code",
   "execution_count": 6,
   "id": "134221f0-d7b6-4b17-a413-43c27d8fb640",
   "metadata": {},
   "outputs": [
    {
     "data": {
      "text/plain": [
       "'names'"
      ]
     },
     "execution_count": 6,
     "metadata": {},
     "output_type": "execute_result"
    }
   ],
   "source": [
    "json_keys[1]"
   ]
  },
  {
   "cell_type": "code",
   "execution_count": 7,
   "id": "c3edffbe-b791-4db5-8bb6-bafe4099283d",
   "metadata": {},
   "outputs": [],
   "source": [
    "# 0\n",
    "plain_dict = {'giataId': json_data['giataId']}"
   ]
  },
  {
   "cell_type": "code",
   "execution_count": 8,
   "id": "ff441138-828d-4a4d-b0a0-c56e33ff5ff5",
   "metadata": {},
   "outputs": [
    {
     "name": "stdout",
     "output_type": "stream",
     "text": [
      "0 \t giataId\n",
      "1 \t names\n",
      "2 \t city\n",
      "3 \t destination\n",
      "4 \t country\n",
      "5 \t source\n",
      "6 \t ratings\n",
      "7 \t addresses\n",
      "8 \t phones\n",
      "9 \t urls\n",
      "10 \t geoCodes\n",
      "11 \t chains\n",
      "12 \t facts\n",
      "13 \t variantGroups\n",
      "14 \t texts\n"
     ]
    }
   ],
   "source": [
    "for i, key in enumerate(json_data.keys()):\n",
    "    if isinstance(json_data[key], dict):\n",
    "        print(i, '\\t', key)#,' :', json_data[key].keys())\n",
    "    else:\n",
    "        print(i, '\\t', key) #,' :', type(json_data[key]))"
   ]
  },
  {
   "cell_type": "code",
   "execution_count": 9,
   "id": "446b1b10-04ad-401f-a9cb-de56d04c11f3",
   "metadata": {},
   "outputs": [
    {
     "data": {
      "text/plain": [
       "[{'value': 'Motel 6 Clinton OK', 'locale': 'de', 'isDefault': True}]"
      ]
     },
     "execution_count": 9,
     "metadata": {},
     "output_type": "execute_result"
    }
   ],
   "source": [
    "json_data[json_keys[1]]"
   ]
  },
  {
   "cell_type": "code",
   "execution_count": 10,
   "id": "f64ab182-7259-4d65-966e-04b5937aed3d",
   "metadata": {},
   "outputs": [
    {
     "data": {
      "text/plain": [
       "{'giataId': 248773, 'names_value': str, 'names_locale': str}"
      ]
     },
     "execution_count": 10,
     "metadata": {},
     "output_type": "execute_result"
    }
   ],
   "source": [
    "plain_dict['names'+'_value'] = str\n",
    "plain_dict['names'+'_locale'] = str\n",
    "plain_dict"
   ]
  },
  {
   "cell_type": "code",
   "execution_count": 11,
   "id": "1f2fd7c2-ebb6-45f3-86b1-319604486df0",
   "metadata": {},
   "outputs": [],
   "source": [
    "# 1\n",
    "for dict_ in json_data['names']:\n",
    "    if 'isDefault' in dict_.keys() and dict_['isDefault']==True:\n",
    "        plain_dict['names'+'_value'] = dict_['value']\n",
    "        plain_dict['names'+'_locale'] = dict_['locale']"
   ]
  },
  {
   "cell_type": "code",
   "execution_count": 12,
   "id": "56b0349d-ad27-412d-be41-5cb5897b8cda",
   "metadata": {},
   "outputs": [
    {
     "data": {
      "text/plain": [
       "{'giataId': 248773, 'names_value': 'Motel 6 Clinton OK', 'names_locale': 'de'}"
      ]
     },
     "execution_count": 12,
     "metadata": {},
     "output_type": "execute_result"
    }
   ],
   "source": [
    "plain_dict"
   ]
  },
  {
   "cell_type": "code",
   "execution_count": 13,
   "id": "54891bf0-04af-4fac-986d-bf00716f218f",
   "metadata": {},
   "outputs": [
    {
     "data": {
      "text/plain": [
       "{'giataId': 100056361,\n",
       " 'names': [{'value': 'Clinton', 'locale': 'de'},\n",
       "  {'value': 'Clinton', 'locale': 'en', 'isDefault': True},\n",
       "  {'value': 'Clinton', 'locale': 'fr'},\n",
       "  {'value': 'Clinton', 'locale': 'es'},\n",
       "  {'value': 'Clinton', 'locale': 'it'},\n",
       "  {'value': 'Clinton', 'locale': 'nl'},\n",
       "  {'value': 'Clinton', 'locale': 'da'},\n",
       "  {'value': 'Клинтон', 'locale': 'ru'},\n",
       "  {'value': 'Clinton', 'locale': 'pt'},\n",
       "  {'value': 'Clinton', 'locale': 'sl'},\n",
       "  {'value': 'Clinton', 'locale': 'pl'},\n",
       "  {'value': 'Clinton', 'locale': 'cs'},\n",
       "  {'value': 'Клинтън (Clinton)', 'locale': 'bg'},\n",
       "  {'value': 'Clinton', 'locale': 'ro'},\n",
       "  {'value': 'Klinton', 'locale': 'sr'},\n",
       "  {'value': 'Clinton', 'locale': 'hu'},\n",
       "  {'value': 'كلينتون', 'locale': 'ar'},\n",
       "  {'value': 'クリントン', 'locale': 'ja'},\n",
       "  {'value': 'Clinton', 'locale': 'tr'},\n",
       "  {'value': 'Klintonas', 'locale': 'lt'},\n",
       "  {'value': '克林頓', 'locale': 'zh_Hant'}]}"
      ]
     },
     "execution_count": 13,
     "metadata": {},
     "output_type": "execute_result"
    }
   ],
   "source": [
    "json_data['city']"
   ]
  },
  {
   "cell_type": "code",
   "execution_count": 14,
   "id": "e6736b64-0f9a-433f-8657-10539e373e22",
   "metadata": {},
   "outputs": [],
   "source": [
    "# 2\n",
    "\n",
    "plain_dict['city'+'_giataId'] = json_data['city']['giataId']\n",
    "\n",
    "for dict_ in json_data[json_keys[2]]['names']:\n",
    "    if 'isDefault' in dict_.keys() and dict_['isDefault']==True:\n",
    "        plain_dict['city'+'_value'] = dict_['value']\n",
    "        plain_dict['city'+'_locale'] = dict_['locale']"
   ]
  },
  {
   "cell_type": "code",
   "execution_count": 15,
   "id": "da399b60-7de5-4569-9312-0fff996430ee",
   "metadata": {},
   "outputs": [
    {
     "data": {
      "text/plain": [
       "{'giataId': 248773,\n",
       " 'names_value': 'Motel 6 Clinton OK',\n",
       " 'names_locale': 'de',\n",
       " 'city_giataId': 100056361,\n",
       " 'city_value': 'Clinton',\n",
       " 'city_locale': 'en'}"
      ]
     },
     "execution_count": 15,
     "metadata": {},
     "output_type": "execute_result"
    }
   ],
   "source": [
    "plain_dict"
   ]
  },
  {
   "cell_type": "code",
   "execution_count": 16,
   "id": "36873f35-5c96-4b94-8716-fbb1fce29b49",
   "metadata": {},
   "outputs": [
    {
     "data": {
      "text/plain": [
       "{'giataId': 100000711,\n",
       " 'names': [{'value': 'Oklahoma', 'locale': 'de'},\n",
       "  {'value': 'Oklahoma', 'locale': 'en', 'isDefault': True},\n",
       "  {'value': 'Oklahoma', 'locale': 'fr'},\n",
       "  {'value': 'Oklahoma', 'locale': 'es'},\n",
       "  {'value': 'Oklahoma', 'locale': 'it'},\n",
       "  {'value': 'Oklahoma', 'locale': 'nl'},\n",
       "  {'value': 'Oklahoma', 'locale': 'da'},\n",
       "  {'value': 'Оклахома', 'locale': 'ru'},\n",
       "  {'value': 'Oklahoma', 'locale': 'pt'},\n",
       "  {'value': 'Oklahoma', 'locale': 'sl'},\n",
       "  {'value': 'Oklahoma', 'locale': 'pl'},\n",
       "  {'value': 'Oklahoma', 'locale': 'cs'},\n",
       "  {'value': 'Оклахома', 'locale': 'bg'},\n",
       "  {'value': 'Oklahoma', 'locale': 'ro'},\n",
       "  {'value': 'Oklahoma', 'locale': 'sr'},\n",
       "  {'value': 'Oklahoma', 'locale': 'hu'},\n",
       "  {'value': 'أوكلاهوما', 'locale': 'ar'},\n",
       "  {'value': 'オクラホマ州', 'locale': 'ja'},\n",
       "  {'value': 'Oklahoma', 'locale': 'tr'},\n",
       "  {'value': '俄克拉何马州', 'locale': 'zh'},\n",
       "  {'value': 'Oklahoma', 'locale': 'sv'},\n",
       "  {'value': 'Oklahoma', 'locale': 'no'},\n",
       "  {'value': 'Oklahoma', 'locale': 'fi'},\n",
       "  {'value': 'Oklahoma', 'locale': 'lt'},\n",
       "  {'value': 'Oklahoma', 'locale': 'lv'},\n",
       "  {'value': 'Oklahoma', 'locale': 'pt_BR'},\n",
       "  {'value': 'Оклахома', 'locale': 'uk'},\n",
       "  {'value': '奧克拉荷馬州', 'locale': 'zh_Hant'}]}"
      ]
     },
     "execution_count": 16,
     "metadata": {},
     "output_type": "execute_result"
    }
   ],
   "source": [
    "json_data['destination']"
   ]
  },
  {
   "cell_type": "code",
   "execution_count": 17,
   "id": "b3738e4f-f50c-4d66-b125-59e132e94e8a",
   "metadata": {},
   "outputs": [],
   "source": [
    "# 3\n",
    "\n",
    "key_id = 3\n",
    "plain_dict['destination'+'_giataId'] = json_data['destination']['giataId']\n",
    "\n",
    "for dict_ in json_data[json_keys[key_id]]['names']:\n",
    "    if 'isDefault' in dict_.keys() and dict_['isDefault']==True:\n",
    "        plain_dict['destination'+'_value'] = dict_['value']\n",
    "        plain_dict['destination'+'_locale'] = dict_['locale']"
   ]
  },
  {
   "cell_type": "code",
   "execution_count": 18,
   "id": "5fa73b70-d948-4544-ad74-1979d6b76656",
   "metadata": {},
   "outputs": [
    {
     "data": {
      "text/plain": [
       "{'giataId': 248773,\n",
       " 'names_value': 'Motel 6 Clinton OK',\n",
       " 'names_locale': 'de',\n",
       " 'city_giataId': 100056361,\n",
       " 'city_value': 'Clinton',\n",
       " 'city_locale': 'en',\n",
       " 'destination_giataId': 100000711,\n",
       " 'destination_value': 'Oklahoma',\n",
       " 'destination_locale': 'en'}"
      ]
     },
     "execution_count": 18,
     "metadata": {},
     "output_type": "execute_result"
    }
   ],
   "source": [
    "plain_dict"
   ]
  },
  {
   "cell_type": "code",
   "execution_count": 19,
   "id": "a2d343f9-88f5-4149-8a3f-43c557bae5e1",
   "metadata": {},
   "outputs": [
    {
     "data": {
      "text/plain": [
       "{'code': 'US',\n",
       " 'names': [{'value': 'USA', 'locale': 'de'},\n",
       "  {'value': 'USA', 'locale': 'en', 'isDefault': True},\n",
       "  {'value': 'USA', 'locale': 'fr'},\n",
       "  {'value': 'EE.UU', 'locale': 'es'},\n",
       "  {'value': 'USA', 'locale': 'it'},\n",
       "  {'value': 'VS', 'locale': 'nl'},\n",
       "  {'value': 'USA', 'locale': 'da'},\n",
       "  {'value': 'Соединённые Штаты Америки (США)', 'locale': 'ru'},\n",
       "  {'value': 'EUA', 'locale': 'pt'},\n",
       "  {'value': 'ZDA', 'locale': 'sl'},\n",
       "  {'value': 'USA', 'locale': 'pl'},\n",
       "  {'value': 'Spojené státy americké', 'locale': 'cs'},\n",
       "  {'value': 'САЩ', 'locale': 'bg'},\n",
       "  {'value': 'SUA', 'locale': 'ro'},\n",
       "  {'value': 'SAD', 'locale': 'sr'},\n",
       "  {'value': 'USA', 'locale': 'hu'},\n",
       "  {'value': 'الولايات المتحده الامريكيه', 'locale': 'ar'},\n",
       "  {'value': 'アメリカ', 'locale': 'ja'},\n",
       "  {'value': 'ABD', 'locale': 'tr'},\n",
       "  {'value': '美国', 'locale': 'zh'},\n",
       "  {'value': 'USA', 'locale': 'sv'},\n",
       "  {'value': 'USA', 'locale': 'no'},\n",
       "  {'value': 'Yhdysvallat', 'locale': 'fi'},\n",
       "  {'value': 'JAV', 'locale': 'lt'},\n",
       "  {'value': 'ASV', 'locale': 'lv'},\n",
       "  {'value': 'EUA', 'locale': 'pt_BR'},\n",
       "  {'value': 'Сполучені Штати Америки', 'locale': 'uk'},\n",
       "  {'value': '美國', 'locale': 'zh_Hant'}]}"
      ]
     },
     "execution_count": 19,
     "metadata": {},
     "output_type": "execute_result"
    }
   ],
   "source": [
    "json_data['country']"
   ]
  },
  {
   "cell_type": "code",
   "execution_count": 20,
   "id": "425a51f8-bf32-4cdf-9f31-0aed75703007",
   "metadata": {},
   "outputs": [],
   "source": [
    "# 4\n",
    "\n",
    "key_id = 4\n",
    "plain_dict['country'+'_code'] = json_data['country']['code']\n",
    "\n",
    "for dict_ in json_data['country']['names']:\n",
    "    if 'isDefault' in dict_.keys() and dict_['isDefault']==True:\n",
    "        plain_dict['country'+'_value'] = dict_['value']\n",
    "        plain_dict['country'+'_locale'] = dict_['locale']"
   ]
  },
  {
   "cell_type": "code",
   "execution_count": 21,
   "id": "aca862af-9ab8-41e4-8f94-f1a5c8520479",
   "metadata": {},
   "outputs": [
    {
     "data": {
      "text/plain": [
       "{'giataId': 248773,\n",
       " 'names_value': 'Motel 6 Clinton OK',\n",
       " 'names_locale': 'de',\n",
       " 'city_giataId': 100056361,\n",
       " 'city_value': 'Clinton',\n",
       " 'city_locale': 'en',\n",
       " 'destination_giataId': 100000711,\n",
       " 'destination_value': 'Oklahoma',\n",
       " 'destination_locale': 'en',\n",
       " 'country_code': 'US',\n",
       " 'country_value': 'USA',\n",
       " 'country_locale': 'en'}"
      ]
     },
     "execution_count": 21,
     "metadata": {},
     "output_type": "execute_result"
    }
   ],
   "source": [
    "plain_dict"
   ]
  },
  {
   "cell_type": "code",
   "execution_count": 22,
   "id": "c68e1eba-111f-4483-979d-6eeb68311d5d",
   "metadata": {},
   "outputs": [
    {
     "data": {
      "text/plain": [
       "(2, 'source')"
      ]
     },
     "execution_count": 22,
     "metadata": {},
     "output_type": "execute_result"
    }
   ],
   "source": [
    "json_data['source'], json_keys[5]"
   ]
  },
  {
   "cell_type": "code",
   "execution_count": 23,
   "id": "c441348e-1b76-420c-8bd2-f564e5b56ea8",
   "metadata": {},
   "outputs": [],
   "source": [
    "# 5\n",
    "key_id = 5\n",
    "\n",
    "plain_dict['source'] = json_data['source']"
   ]
  },
  {
   "cell_type": "code",
   "execution_count": 24,
   "id": "7e10344f-ed24-49e1-b9f5-6189a1009c9a",
   "metadata": {},
   "outputs": [
    {
     "data": {
      "text/plain": [
       "{'giataId': 248773,\n",
       " 'names_value': 'Motel 6 Clinton OK',\n",
       " 'names_locale': 'de',\n",
       " 'city_giataId': 100056361,\n",
       " 'city_value': 'Clinton',\n",
       " 'city_locale': 'en',\n",
       " 'destination_giataId': 100000711,\n",
       " 'destination_value': 'Oklahoma',\n",
       " 'destination_locale': 'en',\n",
       " 'country_code': 'US',\n",
       " 'country_value': 'USA',\n",
       " 'country_locale': 'en',\n",
       " 'source': 2}"
      ]
     },
     "execution_count": 24,
     "metadata": {},
     "output_type": "execute_result"
    }
   ],
   "source": [
    "plain_dict"
   ]
  },
  {
   "cell_type": "code",
   "execution_count": 25,
   "id": "a8bae4dc-8871-402a-9c53-4af51ce6a22c",
   "metadata": {},
   "outputs": [
    {
     "data": {
      "text/plain": [
       "([{'value': '2', 'isDefault': True}], 'ratings')"
      ]
     },
     "execution_count": 25,
     "metadata": {},
     "output_type": "execute_result"
    }
   ],
   "source": [
    "json_data['ratings'], json_keys[6]"
   ]
  },
  {
   "cell_type": "code",
   "execution_count": 26,
   "id": "e287988e-2de5-43ee-a754-d22e2696bdb2",
   "metadata": {},
   "outputs": [],
   "source": [
    "# 6\n",
    "\n",
    "key_id = 6\n",
    "# plain_dict[json_keys[key_id]+'_code'] = json_data[json_keys[key_id]]['code']\n",
    "\n",
    "for dict_ in json_data['ratings']:\n",
    "    if 'isDefault' in dict_.keys() and dict_['isDefault']==True:\n",
    "        plain_dict['ratings'+'_value'] = dict_['value']\n",
    "        # plain_dict[json_keys[key_id]+'_locale'] = dict_['locale']"
   ]
  },
  {
   "cell_type": "code",
   "execution_count": 27,
   "id": "c99ba6eb-c68a-4d61-80aa-7f6a787985c8",
   "metadata": {},
   "outputs": [
    {
     "data": {
      "text/plain": [
       "{'giataId': 248773,\n",
       " 'names_value': 'Motel 6 Clinton OK',\n",
       " 'names_locale': 'de',\n",
       " 'city_giataId': 100056361,\n",
       " 'city_value': 'Clinton',\n",
       " 'city_locale': 'en',\n",
       " 'destination_giataId': 100000711,\n",
       " 'destination_value': 'Oklahoma',\n",
       " 'destination_locale': 'en',\n",
       " 'country_code': 'US',\n",
       " 'country_value': 'USA',\n",
       " 'country_locale': 'en',\n",
       " 'source': 2,\n",
       " 'ratings_value': '2'}"
      ]
     },
     "execution_count": 27,
     "metadata": {},
     "output_type": "execute_result"
    }
   ],
   "source": [
    "plain_dict"
   ]
  },
  {
   "cell_type": "code",
   "execution_count": 28,
   "id": "73a4721a-6790-42bb-ad32-c88eb312903f",
   "metadata": {},
   "outputs": [
    {
     "data": {
      "text/plain": [
       "([{'addressLines': ['2247 West Gary Boulevard', 'Clinton', 'Oklahoma 73601'],\n",
       "   'street': 'West Gary Boulevard',\n",
       "   'streetNum': '2247',\n",
       "   'zip': '73601',\n",
       "   'cityName': 'Clinton',\n",
       "   'federalState': {'giataId': 100180793, 'name': 'Oklahoma', 'code': 'OK'}}],\n",
       " 'addresses')"
      ]
     },
     "execution_count": 28,
     "metadata": {},
     "output_type": "execute_result"
    }
   ],
   "source": [
    "# check in other jsons if there are more than 1 addresses using random method\n",
    "json_data['addresses'], json_keys[7]\n",
    "\n",
    "# ([{'addressLines': ['El-Cornich Street',\n",
    "#     'P.O. Box 235',\n",
    "#     'Hurghada 84511',\n",
    "#     'Red Sea'],\n",
    "#    'street': 'El-Cornich Street',\n",
    "#    'zip': '84511',\n",
    "#    'cityName': 'Hurghada',\n",
    "#    'poBox': 'P.O. Box 235'}],\n",
    "#  'addresses')"
   ]
  },
  {
   "cell_type": "code",
   "execution_count": 29,
   "id": "e26b09ee-1f4e-4075-ae2e-4293060e1b87",
   "metadata": {},
   "outputs": [
    {
     "data": {
      "text/plain": [
       "dict_keys(['addressLines', 'street', 'streetNum', 'zip', 'cityName', 'federalState'])"
      ]
     },
     "execution_count": 29,
     "metadata": {},
     "output_type": "execute_result"
    }
   ],
   "source": [
    "json_data['addresses'][0].keys()"
   ]
  },
  {
   "cell_type": "code",
   "execution_count": 30,
   "id": "24c72cea-14df-4de7-aca9-098b59962d2a",
   "metadata": {},
   "outputs": [],
   "source": [
    "# 7\n",
    "\n",
    "key_id = 7\n",
    "# plain_dict[json_keys[key_id]+'_code'] = json_data[json_keys[key_id]]['code']\n",
    "\n",
    "for dict_ in json_data['addresses']:\n",
    "    # if 'isDefault' in dict_.keys() and dict_['isDefault']==True:\n",
    "    plain_dict[json_keys[key_id]+'_value_addressLines'] = ', '.join(dict_['addressLines'])\n",
    "    plain_dict[json_keys[key_id]+'_street'] = dict_['street']\n",
    "    plain_dict[json_keys[key_id]+'_streetNum'] = dict_.get('streetNum')\n",
    "    plain_dict[json_keys[key_id]+'_zip'] = dict_['zip']\n",
    "    plain_dict[json_keys[key_id]+'_cityName'] = dict_['cityName']\n",
    "    plain_dict[json_keys[key_id]+'_federalState'] = dict_.get('federalState')\n",
    "    plain_dict[json_keys[key_id]+'_poBox'] = dict_.get('poBox')     # dict_['poBox']\n",
    "    plain_dict[json_keys[key_id]+'_zip'] = dict_.get('zip')\n",
    "    "
   ]
  },
  {
   "cell_type": "code",
   "execution_count": 31,
   "id": "5dd2f768-569a-48a5-a40a-597f265dc96e",
   "metadata": {},
   "outputs": [
    {
     "data": {
      "text/plain": [
       "{'giataId': 248773,\n",
       " 'names_value': 'Motel 6 Clinton OK',\n",
       " 'names_locale': 'de',\n",
       " 'city_giataId': 100056361,\n",
       " 'city_value': 'Clinton',\n",
       " 'city_locale': 'en',\n",
       " 'destination_giataId': 100000711,\n",
       " 'destination_value': 'Oklahoma',\n",
       " 'destination_locale': 'en',\n",
       " 'country_code': 'US',\n",
       " 'country_value': 'USA',\n",
       " 'country_locale': 'en',\n",
       " 'source': 2,\n",
       " 'ratings_value': '2',\n",
       " 'addresses_value_addressLines': '2247 West Gary Boulevard, Clinton, Oklahoma 73601',\n",
       " 'addresses_street': 'West Gary Boulevard',\n",
       " 'addresses_streetNum': '2247',\n",
       " 'addresses_zip': '73601',\n",
       " 'addresses_cityName': 'Clinton',\n",
       " 'addresses_federalState': {'giataId': 100180793,\n",
       "  'name': 'Oklahoma',\n",
       "  'code': 'OK'},\n",
       " 'addresses_poBox': None}"
      ]
     },
     "execution_count": 31,
     "metadata": {},
     "output_type": "execute_result"
    }
   ],
   "source": [
    "plain_dict"
   ]
  },
  {
   "cell_type": "code",
   "execution_count": 32,
   "id": "2adb5d02-7ca8-4c36-baae-8d0f78ac3a89",
   "metadata": {},
   "outputs": [
    {
     "data": {
      "text/plain": [
       "([{'phone': '+1 580 3236840', 'tech': 'phone'}], 'phones')"
      ]
     },
     "execution_count": 32,
     "metadata": {},
     "output_type": "execute_result"
    }
   ],
   "source": [
    "json_data['phones'], json_keys[8]"
   ]
  },
  {
   "cell_type": "code",
   "execution_count": 33,
   "id": "261ae23e-cb99-4cd0-be97-1eb554d19eaf",
   "metadata": {},
   "outputs": [
    {
     "name": "stdout",
     "output_type": "stream",
     "text": [
      "<class 'list'>\n",
      "8 {'phone': '+1 580 3236840', 'tech': 'phone'}\n",
      "11 +1 580 3236840\n",
      "['+1 580 3236840']\n"
     ]
    }
   ],
   "source": [
    "# 8\n",
    "\n",
    "key_id = 8\n",
    "# plain_dict[json_keys[key_id]+'_code'] = json_data[json_keys[key_id]]['code']\n",
    "ph_ = []\n",
    "fax_ = []\n",
    "for dict_ in json_data['phones']:\n",
    "    print(type(ph_))\n",
    "    print('8', dict_)\n",
    "    \n",
    "    if dict_['tech']=='phone':\n",
    "        print('11',dict_['phone'])\n",
    "        ph_.append(str(dict_['phone']))\n",
    "        print(ph_)\n",
    "    else:\n",
    "        fax_.append(dict_['phone'])\n",
    "    \n",
    "    plain_dict['phones'+'_phone'] = ph_\n",
    "    plain_dict['phones'+'_fax'] = fax_\n"
   ]
  },
  {
   "cell_type": "code",
   "execution_count": 34,
   "id": "8f2e7e2a-5285-4785-9480-b009a67f756e",
   "metadata": {},
   "outputs": [
    {
     "data": {
      "text/plain": [
       "{'giataId': 248773,\n",
       " 'names_value': 'Motel 6 Clinton OK',\n",
       " 'names_locale': 'de',\n",
       " 'city_giataId': 100056361,\n",
       " 'city_value': 'Clinton',\n",
       " 'city_locale': 'en',\n",
       " 'destination_giataId': 100000711,\n",
       " 'destination_value': 'Oklahoma',\n",
       " 'destination_locale': 'en',\n",
       " 'country_code': 'US',\n",
       " 'country_value': 'USA',\n",
       " 'country_locale': 'en',\n",
       " 'source': 2,\n",
       " 'ratings_value': '2',\n",
       " 'addresses_value_addressLines': '2247 West Gary Boulevard, Clinton, Oklahoma 73601',\n",
       " 'addresses_street': 'West Gary Boulevard',\n",
       " 'addresses_streetNum': '2247',\n",
       " 'addresses_zip': '73601',\n",
       " 'addresses_cityName': 'Clinton',\n",
       " 'addresses_federalState': {'giataId': 100180793,\n",
       "  'name': 'Oklahoma',\n",
       "  'code': 'OK'},\n",
       " 'addresses_poBox': None,\n",
       " 'phones_phone': ['+1 580 3236840'],\n",
       " 'phones_fax': []}"
      ]
     },
     "execution_count": 34,
     "metadata": {},
     "output_type": "execute_result"
    }
   ],
   "source": [
    "plain_dict"
   ]
  },
  {
   "cell_type": "code",
   "execution_count": 35,
   "id": "b66e0d98-48df-4150-8e61-12b4bbc0bcaf",
   "metadata": {},
   "outputs": [
    {
     "data": {
      "text/plain": [
       "([{'url': 'https://www.motel6.com/en/motels.ok.clinton.4981.html'}], 'urls')"
      ]
     },
     "execution_count": 35,
     "metadata": {},
     "output_type": "execute_result"
    }
   ],
   "source": [
    "json_data[json_keys[9]], json_keys[9]"
   ]
  },
  {
   "cell_type": "code",
   "execution_count": 36,
   "id": "55659a96-c196-46d8-94ff-93730d5e2e52",
   "metadata": {},
   "outputs": [],
   "source": [
    "# 9\n",
    "\n",
    "key_id = 9\n",
    "# plain_dict[json_keys[key_id]+'_code'] = json_data[json_keys[key_id]]['code']\n",
    "email_ = []\n",
    "\n",
    "if 'emails' in json_data.keys():\n",
    "    \n",
    "    for dict_ in json_data['emails']:\n",
    "            email_.append(str(dict_['email']))\n",
    "    \n",
    "plain_dict['emails'] = email_"
   ]
  },
  {
   "cell_type": "code",
   "execution_count": 37,
   "id": "2c952d44-8c69-439a-96dc-3813ef4553d8",
   "metadata": {},
   "outputs": [],
   "source": [
    "# plain_dict"
   ]
  },
  {
   "cell_type": "code",
   "execution_count": 38,
   "id": "f03a78c7-e927-4925-834c-7e3f64013e63",
   "metadata": {},
   "outputs": [
    {
     "data": {
      "text/plain": [
       "([{'url': 'https://www.motel6.com/en/motels.ok.clinton.4981.html'}],\n",
       " 'geoCodes')"
      ]
     },
     "execution_count": 38,
     "metadata": {},
     "output_type": "execute_result"
    }
   ],
   "source": [
    "json_data['urls'], json_keys[10]"
   ]
  },
  {
   "cell_type": "code",
   "execution_count": 39,
   "id": "02555c50-5c44-46c4-84ba-8800fa425798",
   "metadata": {},
   "outputs": [],
   "source": [
    "# 10\n",
    "\n",
    "key_id = 10\n",
    "# plain_dict[json_keys[key_id]+'_code'] = json_data[json_keys[key_id]]['code']\n",
    "url_ = []\n",
    "if 'urls' in json_data.keys():\n",
    "    for dict_ in json_data['urls']:\n",
    "            url_.append(str(dict_['url']))\n",
    "    \n",
    "plain_dict['urls'] = url_"
   ]
  },
  {
   "cell_type": "code",
   "execution_count": 40,
   "id": "1a17428a-4ca0-48ff-b1e3-4654320ce5c2",
   "metadata": {},
   "outputs": [],
   "source": [
    "# plain_dict"
   ]
  },
  {
   "cell_type": "code",
   "execution_count": 41,
   "id": "5a007340-3a6e-4bd4-a8ed-902970ee211d",
   "metadata": {},
   "outputs": [
    {
     "data": {
      "text/plain": [
       "([{'latitude': 35.500945718366,\n",
       "   'longitude': -98.989542441803,\n",
       "   'accuracy': 'address'}],\n",
       " 'chains')"
      ]
     },
     "execution_count": 41,
     "metadata": {},
     "output_type": "execute_result"
    }
   ],
   "source": [
    "json_data['geoCodes'], json_keys[11]"
   ]
  },
  {
   "cell_type": "code",
   "execution_count": 42,
   "id": "5bcbf3f3-9bea-4071-93e1-6ac090712462",
   "metadata": {},
   "outputs": [],
   "source": [
    "# 11\n",
    "\n",
    "key_id = 11\n",
    "# plain_dict[json_keys[key_id]+'_code'] = json_data[json_keys[key_id]]['code']\n",
    "\n",
    "for dict_ in json_data['geoCodes']:\n",
    "    # if 'isDefault' in dict_.keys() and dict_['isDefault']==True:\n",
    "        plain_dict['geoCodes'+'_latitude'] = dict_['latitude']\n",
    "        plain_dict['geoCodes'+'_longitude'] = dict_['longitude']\n",
    "        plain_dict['geoCodes'+'_accuracy'] = dict_['accuracy']"
   ]
  },
  {
   "cell_type": "code",
   "execution_count": 43,
   "id": "d70b8c22-950b-408b-be28-c99f6cb4a349",
   "metadata": {},
   "outputs": [],
   "source": [
    "# plain_dict"
   ]
  },
  {
   "cell_type": "code",
   "execution_count": 44,
   "id": "d962e570-890c-4d6d-80ef-ee59171a81a5",
   "metadata": {},
   "outputs": [
    {
     "data": {
      "text/plain": [
       "([{'giataId': 100213352,\n",
       "   'names': [{'value': 'Motel 6', 'locale': 'en', 'isDefault': True}]}],\n",
       " 'facts')"
      ]
     },
     "execution_count": 44,
     "metadata": {},
     "output_type": "execute_result"
    }
   ],
   "source": [
    "json_data['chains'], json_keys[12]"
   ]
  },
  {
   "cell_type": "code",
   "execution_count": 45,
   "id": "38955fd7-3fbf-43e8-8cbf-5160c90efb37",
   "metadata": {},
   "outputs": [],
   "source": [
    "# json_data[json_keys[12]][0]"
   ]
  },
  {
   "cell_type": "code",
   "execution_count": 46,
   "id": "5d0c0e27-841d-441b-ad94-da42fd810f08",
   "metadata": {},
   "outputs": [],
   "source": [
    "# 12\n",
    "\n",
    "key_id = 12\n",
    "\n",
    "giataId_ = []\n",
    "names_ = []\n",
    "for dict_ in json_data['chains']:\n",
    "    giataId_.append(dict_['giataId'])\n",
    "    if 'names' in dict_.keys():\n",
    "        for names_dict in dict_['names']:\n",
    "            if 'isDefault' in names_dict.keys() and names_dict['isDefault']==True and names_dict['locale'] =='en':\n",
    "                names_.append(names_dict['value'])\n",
    "                \n",
    "\n",
    "plain_dict['chains'+'_giataId'] = giataId_\n",
    "plain_dict['chains'+'_names'] = names_"
   ]
  },
  {
   "cell_type": "code",
   "execution_count": 47,
   "id": "de20b8f2-b6dc-46ce-8596-351cce137bd2",
   "metadata": {},
   "outputs": [],
   "source": [
    "# plain_dict"
   ]
  },
  {
   "cell_type": "code",
   "execution_count": 87,
   "id": "565e0339-5065-4760-a63d-ab326026817e",
   "metadata": {},
   "outputs": [
    {
     "ename": "KeyError",
     "evalue": "'roomTypes'",
     "output_type": "error",
     "traceback": [
      "\u001b[0;31m---------------------------------------------------------------------------\u001b[0m",
      "\u001b[0;31mKeyError\u001b[0m                                  Traceback (most recent call last)",
      "Cell \u001b[0;32mIn[87], line 2\u001b[0m\n\u001b[1;32m      1\u001b[0m \u001b[38;5;66;03m# json_keys[13], \u001b[39;00m\n\u001b[0;32m----> 2\u001b[0m \u001b[43mjson_data\u001b[49m\u001b[43m[\u001b[49m\u001b[38;5;124;43m'\u001b[39;49m\u001b[38;5;124;43mroomTypes\u001b[39;49m\u001b[38;5;124;43m'\u001b[39;49m\u001b[43m]\u001b[49m\n",
      "\u001b[0;31mKeyError\u001b[0m: 'roomTypes'"
     ]
    }
   ],
   "source": [
    "# json_keys[13], \n",
    "# json_data['roomTypes']"
   ]
  },
  {
   "cell_type": "code",
   "execution_count": 49,
   "id": "90a19673-d051-479b-918e-dda326a7edc6",
   "metadata": {},
   "outputs": [],
   "source": [
    "# need to iterate overmultiple JSONs to learn about the variety of the attributes\n",
    "# if list of dict\n",
    "\n",
    "dictSet = set()\n",
    "if 'roomTypes' in json_keys:\n",
    "    for dict_ in json_data['roomTypes']:\n",
    "        print(dict_.keys())\n",
    "        for key_ in dict_.keys():\n",
    "            dictSet.add(key_)\n",
    "\n",
    "\n",
    "\n",
    "# # if dict\n",
    "# dictSet = set()\n",
    "\n",
    "# for key_ in json_data['roomTypes'].keys():\n",
    "#     dictSet.add(key_)\n",
    "        \n",
    "# dict_keys(['variantId', 'category', 'categoryInformation', 'view', 'viewInformation', 'imageRelations'])\n",
    "# dict_keys(['variantId', 'category', 'categoryInformation', 'view', 'viewInformation', 'imageRelations'])\n",
    "# dict_keys(['variantId', 'category', 'categoryInformation', 'view', 'viewInformation', 'imageRelations'])\n",
    "# dict_keys(['variantId', 'type', 'typeInformation', 'view', 'viewInformation', 'imageRelations'])\n",
    "# dict_keys(['variantId', 'category', 'categoryInformation', 'view', 'viewInformation', 'imageRelations'])\n",
    "# dict_keys(['variantId', 'view', 'viewInformation', 'name', 'imageRelations'])"
   ]
  },
  {
   "cell_type": "code",
   "execution_count": 50,
   "id": "e68000b7-1946-4ee7-9bad-61cecd7959a7",
   "metadata": {},
   "outputs": [],
   "source": [
    "# dictSet"
   ]
  },
  {
   "cell_type": "code",
   "execution_count": 51,
   "id": "70c4c9de-4474-455f-b337-68a8bde6ddd0",
   "metadata": {},
   "outputs": [],
   "source": [
    "# need to iterate overmultiple JSONs to learn about the variety of the attributes\n",
    "dictSet = {}\n",
    "if 'roomTypes' in json_keys:\n",
    "    for dict_ in json_data['roomTypes']:\n",
    "        # print(dict_.keys())\n",
    "        print(dict_)\n",
    "        for key_ in dict_.keys():\n",
    "            if isinstance(dict_.get(key_), dict):\n",
    "                for key__ in dict_.get(key_).keys():\n",
    "                    # print('_'.join([key_,key__]))\n",
    "                    dictSet['_'.join([key_,key__])] = []\n",
    "                    # print()\n",
    "            else: \n",
    "                dictSet[key_] = []"
   ]
  },
  {
   "cell_type": "code",
   "execution_count": 52,
   "id": "3fa1b0ee-5f7d-4acb-abb3-4cb89267fcd0",
   "metadata": {},
   "outputs": [
    {
     "data": {
      "text/plain": [
       "{}"
      ]
     },
     "execution_count": 52,
     "metadata": {},
     "output_type": "execute_result"
    }
   ],
   "source": [
    "dictSet\n",
    "\n",
    "# {'variantId': [],\n",
    "#  'category': [],\n",
    "#  'categoryInformation_attributeDefId': [],\n",
    "#  'categoryInformation_name': [],\n",
    "#  'view': [],\n",
    "#  'viewInformation_attributeDefId': [],\n",
    "#  'viewInformation_name': [],\n",
    "#  'imageRelations': [],\n",
    "#  'type': [],\n",
    "#  'typeInformation_attributeDefId': [],\n",
    "#  'typeInformation_name': [],\n",
    "#  'name': []}"
   ]
  },
  {
   "cell_type": "code",
   "execution_count": 54,
   "id": "0a07ca55-3bb5-4e1d-8b03-b3eb640ee6d4",
   "metadata": {},
   "outputs": [],
   "source": [
    "# dict_.get(key_)"
   ]
  },
  {
   "cell_type": "code",
   "execution_count": 55,
   "id": "5ee136cb-1253-4b69-9167-e40c2fb5dc53",
   "metadata": {},
   "outputs": [],
   "source": [
    "if 'roomTypes' in json_keys:\n",
    "    for dict_ in json_data['roomTypes']:\n",
    "        for key_ in dictSet.keys():\n",
    "            if '_' not in key_: # isinstance(dict_.get(key_), dict):\n",
    "                dictSet[key_].append(dict_.get(key_))\n",
    "            elif isinstance(dict_.get(key_), dict):\n",
    "                dictSet[key_].append(dict_.get(key_.split('_')[0]).get(key_.split('_')[1]))\n",
    "                print(key_, '\\t', key__, '\\t', dict_.get(key_.split('_')[0]).get(key_.split('_')[1]))\n",
    "            else:\n",
    "                dictSet[key_].append(dict_.get(key_))\n",
    "            # print(key_, dict_.get(key_), type(dict_.get(key_)))\n",
    "        # print('-'*10)"
   ]
  },
  {
   "cell_type": "code",
   "execution_count": 56,
   "id": "a0b9cddf-e210-47a6-af69-d1b1f321abc1",
   "metadata": {},
   "outputs": [
    {
     "data": {
      "text/plain": [
       "{}"
      ]
     },
     "execution_count": 56,
     "metadata": {},
     "output_type": "execute_result"
    }
   ],
   "source": [
    "dictSet"
   ]
  },
  {
   "cell_type": "code",
   "execution_count": 57,
   "id": "a2dade41-0422-4c25-b88b-6f032e9b0f69",
   "metadata": {},
   "outputs": [],
   "source": [
    "# looks irrelevenat, check with other jsons\n",
    "\n",
    "for key_ in dictSet.keys():\n",
    "    if len(dictSet[key_])<19:\n",
    "        print(key_, '\\t', dictSet[key_], len(dictSet[key_]))\n",
    "\n",
    "\n",
    "# variantId \t ['f9eae90f-dd81-449b-aa0a-a703f22f8c1a', 'fed7320f-e665-457b-b25a-8361dfece889', '1c9b235e-ec3f-4be8-a789-07d3b0c8d2a0', '7e114c9f-c284-4354-9195-555e3e996188', '42375f24-5b31-4eeb-864f-13597e9f5db3', '2259ae19-974f-45c7-878c-c7905bac5f00'] 6\n",
    "# category \t ['Standard', 'Standard', 'Standard', None, 'Standard', None] 6\n",
    "# categoryInformation_attributeDefId \t [None, None, None, None, None, None] 6\n",
    "# categoryInformation_name \t [None, None, None, None, None, None] 6\n",
    "# view \t ['Garden View', 'Pool View', 'Sea View', 'Sea View', 'Ocean View', 'Sea View'] 6\n",
    "# viewInformation_attributeDefId \t [None, None, None, None, None, None] 6\n",
    "# viewInformation_name \t [None, None, None, None, None, None] 6\n",
    "# imageRelations \t [[102747663, 102748537, 102748539, 102748650, 102748655, 102748657, 102748658, 102748659, 102748660, 102748661, 102748662], [102748540, 102748649], [102748656], [102748672, 102748673, 102748674, 102748675, 102748676, 102748677, 102748678, 102748679, 102748680], [102748652], [102748667, 102748668, 102748669, 102748670]] 6\n",
    "# type \t [None, None, None, 'Suite', None, None] 6\n",
    "# typeInformation_attributeDefId \t [None, None, None, None, None, None] 6\n",
    "# typeInformation_name \t [None, None, None, None, None, None] 6\n",
    "# name \t [None, None, None, None, None, 'Panorama Sea View room category'] 6"
   ]
  },
  {
   "cell_type": "code",
   "execution_count": 58,
   "id": "f0691cc0-a15e-4467-8147-3224964749ac",
   "metadata": {},
   "outputs": [],
   "source": [
    "for subKey in dictSet.keys():\n",
    "    plain_dict['_'.join(['roomTypes', subKey])] = dictSet[subKey]"
   ]
  },
  {
   "cell_type": "code",
   "execution_count": 59,
   "id": "1d52437b-e6ce-4d0e-9de8-3252496501f5",
   "metadata": {},
   "outputs": [],
   "source": [
    "# plain_dict"
   ]
  },
  {
   "cell_type": "code",
   "execution_count": 61,
   "id": "79761cf3-e3f4-4fe9-be89-40f5535e130d",
   "metadata": {},
   "outputs": [
    {
     "data": {
      "text/plain": [
       "'texts'"
      ]
     },
     "execution_count": 61,
     "metadata": {},
     "output_type": "execute_result"
    }
   ],
   "source": [
    "json_keys[14]\n",
    "# json_data['images'][2:4]"
   ]
  },
  {
   "cell_type": "code",
   "execution_count": 63,
   "id": "ce6572d5-98b6-4571-a9f5-3244823cc268",
   "metadata": {},
   "outputs": [
    {
     "name": "stdout",
     "output_type": "stream",
     "text": [
      "set()\n"
     ]
    }
   ],
   "source": [
    "# need to iterate overmultiple JSONs to learn about the variety of the attributes\n",
    "dictSet = set()\n",
    "if 'images' in json_keys:\n",
    "    for dict_ in json_data['images']:\n",
    "        # print(dict_.keys())\n",
    "        for key_ in dict_.keys():\n",
    "            dictSet.add(key_)\n",
    "print(dictSet)\n",
    "\n",
    "# {'lastUpdate', 'heroImage', 'id', 'baseName', 'motifType', 'sizes'}"
   ]
  },
  {
   "cell_type": "code",
   "execution_count": 64,
   "id": "f79d3cc4-e26f-4e6c-8c23-92b99e55211c",
   "metadata": {},
   "outputs": [],
   "source": [
    "# need to iterate overmultiple JSONs to learn about the variety of the attributes\n",
    "dictSet = {}\n",
    "if 'images' in json_keys:\n",
    "    for dict_ in json_data['images']:\n",
    "        # print(dict_.keys())\n",
    "        for key_ in dict_.keys():\n",
    "            if isinstance(dict_.get(key_), dict) and key_!='sizes':\n",
    "                for key__ in dict_.get(key_).keys():\n",
    "                    # print('_'.join([key_,key__]))\n",
    "                    dictSet['_'.join([key_,key__])] = []\n",
    "                    # print()\n",
    "            else: \n",
    "                dictSet[key_] = []\n",
    "dictSet['herf'] = []"
   ]
  },
  {
   "cell_type": "code",
   "execution_count": 65,
   "id": "ecc10f71-8042-4caa-96e9-26b3118d5a1f",
   "metadata": {},
   "outputs": [
    {
     "data": {
      "text/plain": [
       "{'herf': []}"
      ]
     },
     "execution_count": 65,
     "metadata": {},
     "output_type": "execute_result"
    }
   ],
   "source": [
    "dictSet\n",
    "\n",
    "# {'id': [],\n",
    "#  'motifType': [],\n",
    "#  'lastUpdate': [],\n",
    "#  'heroImage': [],\n",
    "#  'baseName': [],\n",
    "#  'sizes': [],\n",
    "#  'herf': []}"
   ]
  },
  {
   "cell_type": "code",
   "execution_count": 66,
   "id": "0b7cfecf-b235-4a8e-b3a6-60958d8661c7",
   "metadata": {},
   "outputs": [],
   "source": [
    "if 'images' in json_keys:\n",
    "    for dict_ in json_data['images']:\n",
    "        hrefs = []\n",
    "        for key_ in dictSet.keys():\n",
    "            # if '_' not in key_: # isinstance(dict_.get(key_), dict):\n",
    "                # dictSet[key_].append(dict_.get(key_))\n",
    "            if isinstance(dict_.get(key_), dict) and key_=='sizes':\n",
    "                # print(key_, '\\n', list(dict_[key_].keys()))\n",
    "                dictSet[key_].append(list(dict_[key_].keys()))\n",
    "                # print(dict_.get(key_))\n",
    "                imgDict = dict_.get(key_)\n",
    "                for key__ in imgDict.keys():\n",
    "                    # print(imgDict[key__].keys())\n",
    "                    hrefs.append(imgDict[key__]['href'])\n",
    "                # print(key_, '\\t', key__, '\\t', dict_.get(key_.split('_')[0]).get(key_.split('_')[1]))\n",
    "            elif key_ == 'herf':\n",
    "                dictSet[key_].append(hrefs)\n",
    "            else:\n",
    "                dictSet[key_].append(dict_.get(key_))\n",
    "            # print(key_, dict_.get(key_), type(dict_.get(key_)))\n",
    "        # print('-'*10)"
   ]
  },
  {
   "cell_type": "code",
   "execution_count": 67,
   "id": "3bcb4b62-ad4f-4f29-9699-baad4c47e5f1",
   "metadata": {},
   "outputs": [
    {
     "name": "stdout",
     "output_type": "stream",
     "text": [
      "0\n"
     ]
    }
   ],
   "source": [
    "for key_ in dictSet.keys():\n",
    "    print(len(dictSet[key_]))"
   ]
  },
  {
   "cell_type": "code",
   "execution_count": 68,
   "id": "3f486e43-8816-4d1e-8545-aafb1118aa4b",
   "metadata": {},
   "outputs": [],
   "source": [
    "if 'images' in json_keys:\n",
    "    for subKey in dictSet.keys():\n",
    "        plain_dict['_'.join(['images', subKey])] = dictSet[subKey]"
   ]
  },
  {
   "cell_type": "code",
   "execution_count": null,
   "id": "02550eb9-d3a8-4aaa-bd36-155bb4082a9d",
   "metadata": {},
   "outputs": [],
   "source": [
    "# plain_dict"
   ]
  },
  {
   "cell_type": "code",
   "execution_count": 69,
   "id": "ce289a0f-3b0a-42bf-9c34-a5f70e708ed7",
   "metadata": {},
   "outputs": [
    {
     "data": {
      "text/plain": [
       "dict_keys(['8', '24', '27', '35', '44', '45', '73', '87', '88', '120', '125', '146', '148', '158', '176', '346', '440', '487', '489', '514', '516', '581', '53', '62', '185', '22'])"
      ]
     },
     "execution_count": 69,
     "metadata": {},
     "output_type": "execute_result"
    }
   ],
   "source": [
    "# json_keys[15], \n",
    "json_data['facts'].keys()"
   ]
  },
  {
   "cell_type": "code",
   "execution_count": 70,
   "id": "43945ce6-9ac1-48bf-95d0-daf9af52e6e4",
   "metadata": {},
   "outputs": [],
   "source": [
    "# 288, 575\n",
    "# json_data[json_keys[15]]['40']"
   ]
  },
  {
   "cell_type": "code",
   "execution_count": 71,
   "id": "fb66717a-4364-46a1-a8b8-5a70547e43e0",
   "metadata": {},
   "outputs": [
    {
     "name": "stdout",
     "output_type": "stream",
     "text": [
      "\n",
      "\n",
      " {'factDefId', 'attributes'} \n",
      "\n",
      " {'attributeDefId'}\n"
     ]
    }
   ],
   "source": [
    "# need to iterate overmultiple JSONs to learn about the variety of the attributes\n",
    "dictSet = set()\n",
    "dictSetNested = set()\n",
    "for key_ in json_data['facts'].keys():\n",
    "    # print(json_data[json_keys[15]][key_], '\\n\\n')\n",
    "    for list_item in json_data['facts'][key_]:\n",
    "        for listKey in list_item.keys():\n",
    "            dictSet.add(listKey)\n",
    "            if isinstance(list_item[listKey], dict):\n",
    "                # print(list_item[listKey])\n",
    "                for nestedKey_ in list_item[listKey].keys():\n",
    "                    # print(nestedKey_, list_item[listKey][nestedKey_])\n",
    "                    for nestedKey__, value_ in list_item[listKey][nestedKey_].items():\n",
    "                        # print(nestedKey__, value_)\n",
    "                        dictSetNested.add(nestedKey__)\n",
    "            \n",
    "print('\\n\\n', dictSet, '\\n\\n', dictSetNested)\n",
    "\n",
    "\n",
    "\n",
    " # {'factDefId', 'attributes'} \n",
    "\n",
    " # {'value', 'attributeDefId', 'unitDefId'}"
   ]
  },
  {
   "cell_type": "code",
   "execution_count": 72,
   "id": "65da3846-2439-4435-aa6b-fbe84b1f41d5",
   "metadata": {},
   "outputs": [
    {
     "data": {
      "text/plain": [
       "26"
      ]
     },
     "execution_count": 72,
     "metadata": {},
     "output_type": "execute_result"
    }
   ],
   "source": [
    "len(json_data['facts'])"
   ]
  },
  {
   "cell_type": "code",
   "execution_count": 73,
   "id": "c901f9a6-0397-4a51-987b-4a18014fe324",
   "metadata": {},
   "outputs": [],
   "source": [
    "# # need to iterate overmultiple JSONs to learn about the variety of the attributes\n",
    "# dictSet = {}\n",
    "# for item_ in json_data[json_keys[15]]:\n",
    "#     # print(dict_.keys())\n",
    "#     print(type(item_), item_)\n",
    "#     # for key_ in dict_.keys():\n",
    "#     #     if isinstance(dict_.get(key_), dict) : #and key_!='sizes':\n",
    "#     #         for key__ in dict_.get(key_).keys():\n",
    "#     #             # print('_'.join([key_,key__]))\n",
    "#     #             dictSet['_'.join([key_,key__])] = []\n",
    "#     #             # print()\n",
    "#     #     else: \n",
    "#     #         dictSet[key_] = []\n",
    "# # dictSet['herf'] = []\n",
    "# print(dictSet)"
   ]
  },
  {
   "cell_type": "code",
   "execution_count": 74,
   "id": "20eb43f0-eaf9-4595-9116-51fbcf9ed9b9",
   "metadata": {
    "scrolled": true
   },
   "outputs": [],
   "source": [
    "# check inclusion 1\n",
    "# Use this code for id 15\n",
    "dataDict = {'factDefId':[], 'attributes_attributeDefId':[], 'attributes_value':[], 'attributes_unitDefId':[]}\n",
    "# dictSet = set()\n",
    "# dictSetNested = set()\n",
    "json_ = json_data['facts']\n",
    "# print(type(json_))\n",
    "for key_0 in json_.keys():\n",
    "    # print(json_data[json_keys[15]][key_], '\\n\\n')\n",
    "    for list_item in json_[key_0]:\n",
    "        dataDict_ = {'factDefId':[], 'attributes_attributeDefId':[], 'attributes_value':[], 'attributes_unitDefId':[]}\n",
    "        for key_1, value_1 in list_item.items():\n",
    "            # print(listKey)\n",
    "            if isinstance(value_1, str):\n",
    "                # dataDict[key_1].append(value_1)\n",
    "                dataDict_[key_1] = value_1\n",
    "            elif isinstance(value_1, dict):\n",
    "                # print(list_item[listKey])\n",
    "                for key_2, value_2 in value_1.items():\n",
    "                    if isinstance(value_2, str):\n",
    "                        jointKey = '_'.join([key_1, key_2])\n",
    "                        print('#18', jointKey)\n",
    "                        # dataDict[jointKey].append(value_2)\n",
    "                        dataDict_[jointKey] = value_2\n",
    "                    elif isinstance(value_2, dict):\n",
    "                        for key_3, value_3 in value_2.items():\n",
    "                            jointKey = '_'.join([key_1, key_3])\n",
    "                            # print('#23', jointKey)\n",
    "                            # dataDict[jointKey].append(value_3)\n",
    "                            dataDict_[jointKey] = value_3\n",
    "                            # print(key_3, value_3)\n",
    "                            # pass\n",
    "        for key in dataDict.keys():\n",
    "                        if dataDict_[key]:\n",
    "                            dataDict[key].append(str(dataDict_[key]))\n",
    "                        else:\n",
    "                            dataDict[key].append(None)\n",
    "# print('\\n\\n', dataDict)"
   ]
  },
  {
   "cell_type": "code",
   "execution_count": 75,
   "id": "a61359d9-8cad-4698-bf4a-0fade90e6cea",
   "metadata": {},
   "outputs": [
    {
     "name": "stdout",
     "output_type": "stream",
     "text": [
      "factDefId 26 {'44', '22', '148', '346', '176', '24', '185', '514', '581', '53', '87', '35', '27', '45', '489', '125', '120', '440', '516', '88', '487', '62', '73', '158', '8', '146'} Counter({'8': 1, '24': 1, '27': 1, '35': 1, '44': 1, '45': 1, '73': 1, '87': 1, '88': 1, '120': 1, '125': 1, '146': 1, '148': 1, '158': 1, '176': 1, '346': 1, '440': 1, '487': 1, '489': 1, '514': 1, '516': 1, '581': 1, '53': 1, '62': 1, '185': 1, '22': 1}) \n",
      "\n",
      "\n",
      "attributes_attributeDefId 26 {'74', '3', None, '21'} Counter({None: 22, '21': 2, '3': 1, '74': 1}) \n",
      "\n",
      "\n",
      "attributes_value 26 {None} Counter({None: 26}) \n",
      "\n",
      "\n",
      "attributes_unitDefId 26 {None} Counter({None: 26}) \n",
      "\n",
      "\n"
     ]
    }
   ],
   "source": [
    "from collections import Counter\n",
    "\n",
    "for key_, value_ in dataDict.items():\n",
    "    print(key_, len(value_), set(value_), Counter(value_), '\\n\\n')"
   ]
  },
  {
   "cell_type": "code",
   "execution_count": 76,
   "id": "e4093f0e-136e-42eb-8e24-874f3aa3972c",
   "metadata": {},
   "outputs": [],
   "source": [
    "for subKey in dataDict.keys():\n",
    "    plain_dict['_'.join(['facts', subKey])] = dataDict[subKey]"
   ]
  },
  {
   "cell_type": "code",
   "execution_count": 77,
   "id": "51ec0491-1ecc-48b5-818d-ba46195d1787",
   "metadata": {},
   "outputs": [],
   "source": [
    "# plain_dict"
   ]
  },
  {
   "cell_type": "code",
   "execution_count": 78,
   "id": "29f2508c-81b0-4af4-b948-d2f77ed0d03f",
   "metadata": {},
   "outputs": [
    {
     "data": {
      "text/plain": [
       "[]"
      ]
     },
     "execution_count": 78,
     "metadata": {},
     "output_type": "execute_result"
    }
   ],
   "source": [
    "# json_keys[16], \n",
    "json_data['variantGroups']\n",
    "\n",
    "# ('variantGroups', [])"
   ]
  },
  {
   "cell_type": "code",
   "execution_count": 79,
   "id": "c1aceaed-e0ef-46d0-aca2-500bcd305f6b",
   "metadata": {},
   "outputs": [],
   "source": [
    "plain_dict['variantGroups'] = json_data['variantGroups']"
   ]
  },
  {
   "cell_type": "code",
   "execution_count": 80,
   "id": "a6ff40cd-20c3-4bbc-8cbb-e2e26fef2743",
   "metadata": {},
   "outputs": [],
   "source": [
    "# json_keys[17]  #, json_data[json_keys[17]]"
   ]
  },
  {
   "cell_type": "code",
   "execution_count": 81,
   "id": "e570ea21-006f-4738-bccf-bc37e5fabb2c",
   "metadata": {},
   "outputs": [
    {
     "name": "stdout",
     "output_type": "stream",
     "text": [
      "de dict_keys(['locale', 'lastUpdate', 'sections'])\n",
      "en dict_keys(['locale', 'lastUpdate', 'sections'])\n",
      "es dict_keys(['locale', 'lastUpdate', 'sections'])\n",
      "fr dict_keys(['locale', 'lastUpdate', 'sections'])\n",
      "it dict_keys(['locale', 'lastUpdate', 'sections'])\n",
      "nl dict_keys(['locale', 'lastUpdate', 'sections'])\n",
      "pt dict_keys(['locale', 'lastUpdate', 'sections'])\n",
      "tr dict_keys(['locale', 'lastUpdate', 'sections'])\n",
      "ja dict_keys(['locale', 'lastUpdate', 'sections'])\n",
      "bg dict_keys(['locale', 'lastUpdate', 'sections'])\n",
      "ar dict_keys(['locale', 'lastUpdate', 'sections'])\n",
      "pl dict_keys(['locale', 'lastUpdate', 'sections'])\n",
      "cs dict_keys(['locale', 'lastUpdate', 'sections'])\n",
      "zh dict_keys(['locale', 'lastUpdate', 'sections'])\n",
      "hu dict_keys(['locale', 'lastUpdate', 'sections'])\n",
      "el dict_keys(['locale', 'lastUpdate', 'sections'])\n",
      "sv dict_keys(['locale', 'lastUpdate', 'sections'])\n",
      "no dict_keys(['locale', 'lastUpdate', 'sections'])\n",
      "da dict_keys(['locale', 'lastUpdate', 'sections'])\n",
      "ro dict_keys(['locale', 'lastUpdate', 'sections'])\n",
      "en-US dict_keys(['locale', 'lastUpdate', 'sections'])\n",
      "ru dict_keys(['locale', 'lastUpdate', 'sections'])\n",
      "zh-Hant dict_keys(['locale', 'lastUpdate', 'sections'])\n",
      "fi dict_keys(['locale', 'lastUpdate', 'sections'])\n",
      "pt-BR dict_keys(['locale', 'lastUpdate', 'sections'])\n"
     ]
    }
   ],
   "source": [
    "for key, value in json_data['texts'].items():\n",
    "    print(key, value.keys())"
   ]
  },
  {
   "cell_type": "code",
   "execution_count": 82,
   "id": "fe0fd313-816c-451e-b8f4-a49ad17b91a5",
   "metadata": {},
   "outputs": [],
   "source": [
    "textsData = {}\n",
    "for data_ in json_data['texts']['en']['sections']:\n",
    "    dataItems = data_.items()\n",
    "    key = ''\n",
    "    value = ''\n",
    "    for key_, value_ in dataItems:\n",
    "        if key_ == 'title':\n",
    "            key = value_\n",
    "        else:\n",
    "            textsData['_'.join(['texts','en',key])] = value_\n",
    "# print(textsData)"
   ]
  },
  {
   "cell_type": "code",
   "execution_count": 83,
   "id": "7e200d6c-e4f7-4983-94f9-cdc96de9e96d",
   "metadata": {},
   "outputs": [],
   "source": [
    "for data_ in json_data['texts']['en-US']['sections']:\n",
    "    dataItems = data_.items()\n",
    "    key = ''\n",
    "    value = ''\n",
    "    for key_, value_ in dataItems:\n",
    "        if key_ == 'title':\n",
    "            key = value_\n",
    "        else:\n",
    "            textsData['_'.join(['texts','en-US',key])] = value_\n",
    "# print(textsData)"
   ]
  },
  {
   "cell_type": "code",
   "execution_count": 84,
   "id": "14f8082a-2c40-4298-a098-15aa8ffa8af8",
   "metadata": {},
   "outputs": [
    {
     "data": {
      "text/plain": [
       "dict_keys(['texts_en_Location', 'texts_en_Facilities', 'texts_en_Rooms', 'texts_en_Sports/Entertainment', 'texts_en-US_Location', 'texts_en-US_Facilities', 'texts_en-US_Rooms', 'texts_en-US_Sports/Entertainment'])"
      ]
     },
     "execution_count": 84,
     "metadata": {},
     "output_type": "execute_result"
    }
   ],
   "source": [
    "textsData.keys()"
   ]
  },
  {
   "cell_type": "code",
   "execution_count": 85,
   "id": "0a67504c-41cd-46d0-b871-1a4b687c5433",
   "metadata": {},
   "outputs": [],
   "source": [
    "for subKey in textsData.keys():\n",
    "    plain_dict[subKey] = textsData[subKey]"
   ]
  },
  {
   "cell_type": "code",
   "execution_count": 86,
   "id": "baa99179-c79c-4f83-b8db-c498cf755d1d",
   "metadata": {},
   "outputs": [
    {
     "data": {
      "text/plain": [
       "['giataId',\n",
       " 'names_value',\n",
       " 'names_locale',\n",
       " 'city_giataId',\n",
       " 'city_value',\n",
       " 'city_locale',\n",
       " 'destination_giataId',\n",
       " 'destination_value',\n",
       " 'destination_locale',\n",
       " 'country_code',\n",
       " 'country_value',\n",
       " 'country_locale',\n",
       " 'source',\n",
       " 'ratings_value',\n",
       " 'addresses_value_addressLines',\n",
       " 'addresses_street',\n",
       " 'addresses_streetNum',\n",
       " 'addresses_zip',\n",
       " 'addresses_cityName',\n",
       " 'addresses_federalState',\n",
       " 'addresses_poBox',\n",
       " 'phones_phone',\n",
       " 'phones_fax',\n",
       " 'emails',\n",
       " 'urls',\n",
       " 'geoCodes_latitude',\n",
       " 'geoCodes_longitude',\n",
       " 'geoCodes_accuracy',\n",
       " 'chains_giataId',\n",
       " 'chains_names',\n",
       " 'facts_factDefId',\n",
       " 'facts_attributes_attributeDefId',\n",
       " 'facts_attributes_value',\n",
       " 'facts_attributes_unitDefId',\n",
       " 'variantGroups',\n",
       " 'texts_en_Location',\n",
       " 'texts_en_Facilities',\n",
       " 'texts_en_Rooms',\n",
       " 'texts_en_Sports/Entertainment',\n",
       " 'texts_en-US_Location',\n",
       " 'texts_en-US_Facilities',\n",
       " 'texts_en-US_Rooms',\n",
       " 'texts_en-US_Sports/Entertainment']"
      ]
     },
     "execution_count": 86,
     "metadata": {},
     "output_type": "execute_result"
    }
   ],
   "source": [
    "list(plain_dict.keys())"
   ]
  },
  {
   "cell_type": "code",
   "execution_count": null,
   "id": "a4f900b1-9dc1-4343-b2e9-8e3c3961a501",
   "metadata": {},
   "outputs": [],
   "source": []
  },
  {
   "cell_type": "code",
   "execution_count": null,
   "id": "05839e52-eca4-4674-b6b4-453f3722c80f",
   "metadata": {},
   "outputs": [],
   "source": []
  },
  {
   "cell_type": "code",
   "execution_count": null,
   "id": "d4218967-4591-49cc-88af-5d4afb408f7f",
   "metadata": {},
   "outputs": [],
   "source": []
  },
  {
   "cell_type": "code",
   "execution_count": null,
   "id": "c9193fae-5e15-40da-b2c8-a8cb9bd3f2c8",
   "metadata": {},
   "outputs": [],
   "source": []
  },
  {
   "cell_type": "code",
   "execution_count": null,
   "id": "2945e98f-05d7-4671-8cfe-4a31f15dfda9",
   "metadata": {},
   "outputs": [],
   "source": []
  }
 ],
 "metadata": {
  "kernelspec": {
   "display_name": "Python 3 (ipykernel)",
   "language": "python",
   "name": "python3"
  },
  "language_info": {
   "codemirror_mode": {
    "name": "ipython",
    "version": 3
   },
   "file_extension": ".py",
   "mimetype": "text/x-python",
   "name": "python",
   "nbconvert_exporter": "python",
   "pygments_lexer": "ipython3",
   "version": "3.10.12"
  }
 },
 "nbformat": 4,
 "nbformat_minor": 5
}
