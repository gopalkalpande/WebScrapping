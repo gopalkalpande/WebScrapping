{
 "cells": [
  {
   "cell_type": "code",
   "execution_count": 3120,
   "metadata": {},
   "outputs": [],
   "source": [
    "#!/usr/bin/env python\n",
    "# coding: utf-8"
   ]
  },
  {
   "cell_type": "markdown",
   "metadata": {},
   "source": [
    "In[1]:"
   ]
  },
  {
   "cell_type": "code",
   "execution_count": 3121,
   "metadata": {},
   "outputs": [],
   "source": [
    "# import json"
   ]
  },
  {
   "cell_type": "markdown",
   "metadata": {},
   "source": [
    "Specify the path to the JSON file"
   ]
  },
  {
   "cell_type": "code",
   "execution_count": 3122,
   "metadata": {},
   "outputs": [],
   "source": [
    "# file_path = \"data/inputJSONs/9.json\""
   ]
  },
  {
   "cell_type": "code",
   "execution_count": 3123,
   "metadata": {},
   "outputs": [
    {
     "name": "stdout",
     "output_type": "stream",
     "text": [
      "./data/inputJSONs/167724.json\n"
     ]
    }
   ],
   "source": [
    "import os\n",
    "import random\n",
    "import jsonschema, json\n",
    "from genson import SchemaBuilder\n",
    "import pandas as pd \n",
    "\n",
    "output = pd.DataFrame(columns=dfKeys)\n",
    "\n",
    "# Path to the input JSONs folder\n",
    "folder_path = './data/inputJSONs'\n",
    "\n",
    "# Get a list of all hjson files in the folder\n",
    "hjson_files = [file for file in os.listdir(folder_path) if file.endswith('.json')]\n",
    "\n",
    "# Select 50 random hjson files\n",
    "random_files = random.sample(hjson_files, 1)\n",
    "\n",
    "file_path = os.path.join(folder_path, random_files[0])\n",
    "\n",
    "print(file_path)"
   ]
  },
  {
   "cell_type": "markdown",
   "metadata": {},
   "source": [
    "Read the JSON file\n",
    "./data/inputJSONs/555196.json\n",
    "./data/inputJSONs/258977.json\n",
    "./data/inputJSONs/123974.json\n",
    "./data/inputJSONs/260234.json\n"
   ]
  },
  {
   "cell_type": "code",
   "execution_count": 3124,
   "metadata": {},
   "outputs": [],
   "source": [
    "with open(file_path, \"r\") as file:\n",
    "    json_data = json.load(file)"
   ]
  },
  {
   "cell_type": "markdown",
   "metadata": {},
   "source": [
    "In[2]:"
   ]
  },
  {
   "cell_type": "code",
   "execution_count": 3125,
   "metadata": {},
   "outputs": [],
   "source": [
    "json_keys = list(json_data.keys())"
   ]
  },
  {
   "cell_type": "code",
   "execution_count": 3126,
   "metadata": {
    "scrolled": true
   },
   "outputs": [
    {
     "name": "stdout",
     "output_type": "stream",
     "text": [
      "16 ['giataId', 'names', 'city', 'destination', 'country', 'source', 'ratings', 'addresses', 'phones', 'urls', 'geoCodes', 'chains', 'images', 'facts', 'variantGroups', 'texts']\n"
     ]
    }
   ],
   "source": [
    "# print(len(json_keys), json_keys)"
   ]
  },
  {
   "cell_type": "markdown",
   "metadata": {},
   "source": [
    "# a"
   ]
  },
  {
   "cell_type": "code",
   "execution_count": 3127,
   "metadata": {},
   "outputs": [
    {
     "name": "stdout",
     "output_type": "stream",
     "text": [
      "18\n",
      "{'city', 'images', 'geoCodes', 'source', 'chains', 'roomTypes', 'texts', 'names', 'urls', 'variantGroups', 'destination', 'addresses', 'country', 'phones', 'emails', 'ratings', 'giataId', 'facts'} 18\n"
     ]
    }
   ],
   "source": [
    "keys = ['giataId', 'names', 'city', 'destination', 'country', 'source', 'ratings', 'addresses', 'phones', 'emails', 'urls', 'geoCodes', 'chains', 'roomTypes', 'images', 'facts', 'variantGroups', 'texts']\n",
    "# finalKeysJsonLevel1 = set()\n",
    "# print(len(finalKeysJsonLevel1))\n",
    "finalKeysJsonLevel1 = set(keys).union(json_keys)\n",
    "# print(finalKeysJsonLevel1, len(finalKeysJsonLevel1))\n",
    "\n",
    "# {'city', 'images', 'geoCodes', 'source', 'chains', 'roomTypes', 'texts', 'names', 'urls', 'variantGroups', 'destination', 'addresses', 'country', 'phones', 'emails', 'ratings', 'giataId', 'facts'}\n",
    "# 18"
   ]
  },
  {
   "cell_type": "markdown",
   "metadata": {},
   "source": [
    "0"
   ]
  },
  {
   "cell_type": "code",
   "execution_count": 3128,
   "metadata": {},
   "outputs": [],
   "source": [
    "plain_dict = {'giataId': json_data['giataId']}"
   ]
  },
  {
   "cell_type": "markdown",
   "metadata": {},
   "source": [
    "In[4]:"
   ]
  },
  {
   "cell_type": "code",
   "execution_count": 3129,
   "metadata": {},
   "outputs": [],
   "source": [
    "plain_dict['names'+'_value'] = str\n",
    "plain_dict['names'+'_locale'] = str\n",
    "# plain_dict\n",
    "# 1\n",
    "for dict_ in json_data['names']:\n",
    "    if 'isDefault' in dict_.keys() and dict_['isDefault']==True:\n",
    "        plain_dict['names'+'_value'] = dict_['value']\n",
    "        plain_dict['names'+'_locale'] = dict_['locale']"
   ]
  },
  {
   "cell_type": "markdown",
   "metadata": {},
   "source": [
    "In[5]:"
   ]
  },
  {
   "cell_type": "markdown",
   "metadata": {},
   "source": [
    "2"
   ]
  },
  {
   "cell_type": "code",
   "execution_count": 3130,
   "metadata": {},
   "outputs": [],
   "source": [
    "plain_dict['city'+'_giataId'] = json_data['city']['giataId']"
   ]
  },
  {
   "cell_type": "code",
   "execution_count": 3131,
   "metadata": {},
   "outputs": [],
   "source": [
    "for dict_ in json_data['city']['names']:\n",
    "    if 'isDefault' in dict_.keys() and dict_['isDefault']==True:\n",
    "        plain_dict['city'+'_value'] = dict_['value']\n",
    "        plain_dict['city'+'_locale'] = dict_['locale']"
   ]
  },
  {
   "cell_type": "markdown",
   "metadata": {},
   "source": [
    "In[6]:"
   ]
  },
  {
   "cell_type": "markdown",
   "metadata": {},
   "source": [
    "3"
   ]
  },
  {
   "cell_type": "code",
   "execution_count": 3132,
   "metadata": {},
   "outputs": [],
   "source": [
    "key_id = 3\n",
    "plain_dict['destination'+'_giataId'] = json_data['destination']['giataId']"
   ]
  },
  {
   "cell_type": "code",
   "execution_count": 3133,
   "metadata": {},
   "outputs": [],
   "source": [
    "for dict_ in json_data['destination']['names']:\n",
    "    if 'isDefault' in dict_.keys() and dict_['isDefault']==True:\n",
    "        plain_dict['destination'+'_value'] = dict_['value']\n",
    "        plain_dict['destination'+'_locale'] = dict_['locale']"
   ]
  },
  {
   "cell_type": "markdown",
   "metadata": {},
   "source": [
    "In[7]:"
   ]
  },
  {
   "cell_type": "markdown",
   "metadata": {},
   "source": [
    "4"
   ]
  },
  {
   "cell_type": "code",
   "execution_count": 3134,
   "metadata": {},
   "outputs": [],
   "source": [
    "key_id = 4\n",
    "plain_dict['country'+'_code'] = json_data['country']['code']"
   ]
  },
  {
   "cell_type": "code",
   "execution_count": 3135,
   "metadata": {},
   "outputs": [],
   "source": [
    "for dict_ in json_data['country']['names']:\n",
    "    if 'isDefault' in dict_.keys() and dict_['isDefault']==True:\n",
    "        plain_dict['country'+'_value'] = dict_['value']\n",
    "        plain_dict['country'+'_locale'] = dict_['locale']"
   ]
  },
  {
   "cell_type": "markdown",
   "metadata": {},
   "source": [
    "In[8]:"
   ]
  },
  {
   "cell_type": "markdown",
   "metadata": {},
   "source": [
    "5"
   ]
  },
  {
   "cell_type": "code",
   "execution_count": 3136,
   "metadata": {},
   "outputs": [],
   "source": [
    "key_id = 5"
   ]
  },
  {
   "cell_type": "code",
   "execution_count": 3137,
   "metadata": {},
   "outputs": [],
   "source": [
    "plain_dict['source'] = json_data['source']"
   ]
  },
  {
   "cell_type": "markdown",
   "metadata": {},
   "source": [
    "In[9]:"
   ]
  },
  {
   "cell_type": "markdown",
   "metadata": {},
   "source": [
    "6"
   ]
  },
  {
   "cell_type": "code",
   "execution_count": 3138,
   "metadata": {},
   "outputs": [],
   "source": [
    "key_id = 6\n",
    "# plain_dict[json_keys[key_id]+'_code'] = json_data[json_keys[key_id]]['code']"
   ]
  },
  {
   "cell_type": "code",
   "execution_count": 3139,
   "metadata": {},
   "outputs": [],
   "source": [
    "for dict_ in json_data['ratings']:\n",
    "    if 'isDefault' in dict_.keys() and dict_['isDefault']==True:\n",
    "        plain_dict['ratings'+'_value'] = dict_['value']\n",
    "        # plain_dict['ratings'+'_locale'] = dict_['locale']"
   ]
  },
  {
   "cell_type": "markdown",
   "metadata": {},
   "source": [
    "In[10]:"
   ]
  },
  {
   "cell_type": "markdown",
   "metadata": {},
   "source": [
    "# 7"
   ]
  },
  {
   "cell_type": "code",
   "execution_count": 3140,
   "metadata": {},
   "outputs": [
    {
     "data": {
      "text/plain": [
       "[{'addressLines': ['301 South Beeline Highway', 'Payson', 'Arizona 85541'],\n",
       "  'street': 'South Beeline Highway',\n",
       "  'streetNum': '301',\n",
       "  'zip': '85541',\n",
       "  'cityName': 'Payson',\n",
       "  'federalState': {'giataId': 100180727, 'name': 'Arizona', 'code': 'AZ'}}]"
      ]
     },
     "execution_count": 3140,
     "metadata": {},
     "output_type": "execute_result"
    }
   ],
   "source": [
    "key_id = 7\n",
    "# plain_dict['addresses'+'_code'] = json_data['addresses']['code']\n",
    "# json_data['addresses']"
   ]
  },
  {
   "cell_type": "code",
   "execution_count": 3141,
   "metadata": {},
   "outputs": [],
   "source": [
    "# 7\n",
    "\n",
    "key_id = 7\n",
    "# plain_dict['addresses'+'_code'] = json_data['addresses']['code']\n",
    "\n",
    "for dict_ in json_data['addresses']:\n",
    "    # if 'isDefault' in dict_.keys() and dict_['isDefault']==True:\n",
    "    plain_dict['addresses'+'_value_addressLines'] = ', '.join(dict_.get('addressLines'))\n",
    "    plain_dict['addresses'+'_street'] = dict_.get('street') #\n",
    "    plain_dict['addresses'+'_streetNum'] = dict_.get('streetNum')\n",
    "    plain_dict['addresses'+'_zip'] = dict_.get('zip') #\n",
    "    plain_dict['addresses'+'_cityName'] = dict_.get('cityName') #\n",
    "    if dict_.get('federalState'):\n",
    "        plain_dict['addresses'+'_federalStateName'] = dict_.get('federalState').get('name')\n",
    "        plain_dict['addresses'+'_federalStateCode'] = dict_.get('federalState').get('code')\n",
    "    plain_dict['addresses'+'_poBox'] = dict_.get('poBox')     # dict_['poBox']\n",
    "    plain_dict['addresses'+'_zip'] = dict_.get('zip')\n",
    "    "
   ]
  },
  {
   "cell_type": "code",
   "execution_count": 3142,
   "metadata": {},
   "outputs": [],
   "source": [
    "# dict_.get('federalState').get('name'), dict_.get('federalState').get('code')"
   ]
  },
  {
   "cell_type": "markdown",
   "metadata": {},
   "source": [
    "In[12]:"
   ]
  },
  {
   "cell_type": "code",
   "execution_count": 3143,
   "metadata": {},
   "outputs": [],
   "source": [
    "# plain_dict"
   ]
  },
  {
   "cell_type": "markdown",
   "metadata": {},
   "source": [
    "# 8"
   ]
  },
  {
   "cell_type": "code",
   "execution_count": 3144,
   "metadata": {},
   "outputs": [
    {
     "name": "stdout",
     "output_type": "stream",
     "text": [
      "{'phone': '+1 928 4749800', 'tech': 'phone'}\n"
     ]
    }
   ],
   "source": [
    "key_id = 8\n",
    "# plain_dict['phones'+'_code'] = json_data['phones']['code']\n",
    "ph_ = []\n",
    "fax_ = []\n",
    "if 'phones' in json_keys:\n",
    "    for dict_ in json_data['phones']:\n",
    "        # print(type(ph_))\n",
    "        # print('8', dict_)\n",
    "        # print(dict_)\n",
    "        if dict_['tech']=='phone':\n",
    "            # print('11',dict_['phone'])\n",
    "            ph_.append(str(dict_['phone']))\n",
    "            # print(ph_)\n",
    "        else:\n",
    "            fax_.append(dict_['phone'])\n",
    "    \n",
    "plain_dict['phones'+'_phone'] = ph_\n",
    "plain_dict['phones'+'_fax'] = fax_"
   ]
  },
  {
   "cell_type": "markdown",
   "metadata": {},
   "source": [
    "In[13]:"
   ]
  },
  {
   "cell_type": "markdown",
   "metadata": {},
   "source": [
    "# 9"
   ]
  },
  {
   "cell_type": "code",
   "execution_count": 3145,
   "metadata": {},
   "outputs": [],
   "source": [
    "key_id = 9\n",
    "# plain_dict[json_keys[key_id]+'_code'] = json_data[json_keys[key_id]]['code']\n",
    "email_ = []"
   ]
  },
  {
   "cell_type": "code",
   "execution_count": 3146,
   "metadata": {},
   "outputs": [],
   "source": [
    "if 'emails' in json_data.keys():\n",
    "    \n",
    "    for dict_ in json_data['emails']:\n",
    "        # print(dict_)\n",
    "        email_.append(str(dict_['email']))\n",
    "    \n",
    "plain_dict['emails'] = email_"
   ]
  },
  {
   "cell_type": "code",
   "execution_count": 3147,
   "metadata": {},
   "outputs": [],
   "source": [
    "# plain_dict['emails']"
   ]
  },
  {
   "cell_type": "markdown",
   "metadata": {},
   "source": [
    "10"
   ]
  },
  {
   "cell_type": "code",
   "execution_count": 3148,
   "metadata": {},
   "outputs": [],
   "source": [
    "key_id = 10\n",
    "# plain_dict['urls'+'_code'] = json_data['urls']['code']\n",
    "url_ = []"
   ]
  },
  {
   "cell_type": "code",
   "execution_count": 3149,
   "metadata": {},
   "outputs": [],
   "source": [
    "for dict_ in json_data['urls']:\n",
    "        url_.append(str(dict_['url']))\n",
    "    \n",
    "plain_dict['urls'] = url_"
   ]
  },
  {
   "cell_type": "markdown",
   "metadata": {},
   "source": [
    "In[14]:"
   ]
  },
  {
   "cell_type": "markdown",
   "metadata": {},
   "source": [
    "11"
   ]
  },
  {
   "cell_type": "code",
   "execution_count": 3150,
   "metadata": {},
   "outputs": [],
   "source": [
    "key_id = 11\n",
    "# plain_dict['geoCodes'+'_code'] = json_data['geoCodes']['code']"
   ]
  },
  {
   "cell_type": "code",
   "execution_count": 3151,
   "metadata": {},
   "outputs": [],
   "source": [
    "for dict_ in json_data['geoCodes']:\n",
    "    # if 'isDefault' in dict_.keys() and dict_['isDefault']==True:\n",
    "        plain_dict['geoCodes'+'_latitude'] = dict_['latitude']\n",
    "        plain_dict['geoCodes'+'_longitude'] = dict_['longitude']\n",
    "        plain_dict['geoCodes'+'_accuracy'] = dict_['accuracy']"
   ]
  },
  {
   "cell_type": "markdown",
   "metadata": {},
   "source": [
    "In[15]:"
   ]
  },
  {
   "cell_type": "markdown",
   "metadata": {},
   "source": [
    "12"
   ]
  },
  {
   "cell_type": "code",
   "execution_count": 3152,
   "metadata": {},
   "outputs": [],
   "source": [
    "key_id = 12"
   ]
  },
  {
   "cell_type": "code",
   "execution_count": 3153,
   "metadata": {},
   "outputs": [
    {
     "name": "stdout",
     "output_type": "stream",
     "text": [
      "inside chains\n"
     ]
    }
   ],
   "source": [
    "giataId_ = []\n",
    "names_ = []\n",
    "if 'chains' in json_keys:\n",
    "    # print('inside chains')\n",
    "    for dict_ in json_data['chains']:\n",
    "        giataId_.append(dict_['giataId'])\n",
    "        if 'names' in dict_.keys():\n",
    "            for names_dict in dict_['names']:\n",
    "                if 'isDefault' in names_dict.keys() and names_dict['isDefault']==True and names_dict['locale'] =='en':\n",
    "                    names_.append(names_dict['value'])\n",
    "                    "
   ]
  },
  {
   "cell_type": "code",
   "execution_count": 3154,
   "metadata": {},
   "outputs": [],
   "source": [
    "plain_dict['chains'+'_giataId'] = giataId_\n",
    "plain_dict['chains'+'_names'] = names_"
   ]
  },
  {
   "cell_type": "markdown",
   "metadata": {},
   "source": [
    "In[16]:"
   ]
  },
  {
   "cell_type": "markdown",
   "metadata": {},
   "source": [
    "13"
   ]
  },
  {
   "cell_type": "markdown",
   "metadata": {},
   "source": [
    "need to iterate overmultiple JSONs to learn about the variety of the attributes"
   ]
  },
  {
   "cell_type": "code",
   "execution_count": 3155,
   "metadata": {},
   "outputs": [],
   "source": [
    "dictSet = {}\n",
    "if 'roomTypes' in json_keys:\n",
    "    # print('inside roomType')\n",
    "    for dict_ in json_data['roomTypes']:\n",
    "        # print(dict_.keys())\n",
    "        for key_ in dict_.keys():\n",
    "            if isinstance(dict_.get(key_), dict):\n",
    "                for key__ in dict_.get(key_).keys():\n",
    "                    # print('_'.join([key_,key__]))\n",
    "                    dictSet['_'.join([key_,key__])] = []\n",
    "                    # print()\n",
    "            else: \n",
    "                dictSet[key_] = []"
   ]
  },
  {
   "cell_type": "code",
   "execution_count": 3156,
   "metadata": {},
   "outputs": [
    {
     "data": {
      "text/plain": [
       "{}"
      ]
     },
     "execution_count": 3156,
     "metadata": {},
     "output_type": "execute_result"
    }
   ],
   "source": [
    "dictSet"
   ]
  },
  {
   "cell_type": "code",
   "execution_count": 3157,
   "metadata": {},
   "outputs": [],
   "source": [
    "if 'roomTypes' in json_keys:\n",
    "    for dict_ in json_data['roomTypes']:\n",
    "        for key_ in dictSet.keys():\n",
    "            if '_' not in key_: # isinstance(dict_.get(key_), dict):\n",
    "                dictSet[key_].append(dict_.get(key_))\n",
    "            elif isinstance(dict_.get(key_), dict):\n",
    "                dictSet[key_].append(dict_.get(key_.split('_')[0]).get(key_.split('_')[1]))\n",
    "                print(key_, '\\t', key__, '\\t', dict_.get(key_.split('_')[0]).get(key_.split('_')[1]))\n",
    "            else:\n",
    "                dictSet[key_].append(dict_.get(key_))\n",
    "            # print(key_, dict_.get(key_), type(dict_.get(key_)))\n",
    "        # print('-'*10)"
   ]
  },
  {
   "cell_type": "code",
   "execution_count": 3158,
   "metadata": {},
   "outputs": [],
   "source": [
    "if 'roomTypes' in json_keys:\n",
    "    for subKey in dictSet.keys():\n",
    "        plain_dict['_'.join(['roomTypes', subKey])] = dictSet[subKey]"
   ]
  },
  {
   "cell_type": "markdown",
   "metadata": {},
   "source": [
    "In[17]:"
   ]
  },
  {
   "cell_type": "markdown",
   "metadata": {},
   "source": [
    "14"
   ]
  },
  {
   "cell_type": "markdown",
   "metadata": {},
   "source": [
    "need to iterate overmultiple JSONs to learn about the variety of the attributes"
   ]
  },
  {
   "cell_type": "code",
   "execution_count": 3159,
   "metadata": {},
   "outputs": [
    {
     "name": "stdout",
     "output_type": "stream",
     "text": [
      "inside images\n"
     ]
    }
   ],
   "source": [
    "if 'images' in json_keys:\n",
    "    # print('inside images')\n",
    "    dictSet = {}\n",
    "    for dict_ in json_data['images']:\n",
    "        # print(dict_.keys())\n",
    "        for key_ in dict_.keys():\n",
    "            if isinstance(dict_.get(key_), dict) and key_!='sizes':\n",
    "                for key__ in dict_.get(key_).keys():\n",
    "                    # print('_'.join([key_,key__]))\n",
    "                    dictSet['_'.join([key_,key__])] = []\n",
    "                    # print()\n",
    "            else: \n",
    "                dictSet[key_] = []\n",
    "    dictSet['herf'] = []\n",
    "    \n",
    "    \n",
    "    for dict_ in json_data['images']:\n",
    "        hrefs = []\n",
    "        for key_ in dictSet.keys():\n",
    "            # if '_' not in key_: # isinstance(dict_.get(key_), dict):\n",
    "                # dictSet[key_].append(dict_.get(key_))\n",
    "            if isinstance(dict_.get(key_), dict) and key_=='sizes':\n",
    "                # print(key_, '\\n', list(dict_[key_].keys()))\n",
    "                dictSet[key_].append(list(dict_[key_].keys()))\n",
    "                # print(dict_.get(key_))\n",
    "                imgDict = dict_.get(key_)\n",
    "                for key__ in imgDict.keys():\n",
    "                    # print(imgDict[key__].keys())\n",
    "                    hrefs.append(imgDict[key__]['href'])\n",
    "                # print(key_, '\\t', key__, '\\t', dict_.get(key_.split('_')[0]).get(key_.split('_')[1]))\n",
    "            elif key_ == 'herf':\n",
    "                dictSet[key_].append(hrefs)\n",
    "            else:\n",
    "                dictSet[key_].append(dict_.get(key_))\n",
    "            # print(key_, dict_.get(key_), type(dict_.get(key_)))\n",
    "        # print('-'*10)\n",
    "    \n",
    "    \n",
    "    for subKey in dictSet.keys():\n",
    "        plain_dict['_'.join(['images', subKey])] = dictSet[subKey]"
   ]
  },
  {
   "cell_type": "code",
   "execution_count": null,
   "metadata": {},
   "outputs": [],
   "source": []
  },
  {
   "cell_type": "code",
   "execution_count": null,
   "metadata": {},
   "outputs": [],
   "source": []
  },
  {
   "cell_type": "code",
   "execution_count": 3160,
   "metadata": {},
   "outputs": [],
   "source": [
    "# plain_dict"
   ]
  },
  {
   "cell_type": "markdown",
   "metadata": {},
   "source": [
    "15"
   ]
  },
  {
   "cell_type": "markdown",
   "metadata": {},
   "source": [
    "need to iterate overmultiple JSONs to learn about the variety of the attributes"
   ]
  },
  {
   "cell_type": "code",
   "execution_count": 3161,
   "metadata": {},
   "outputs": [],
   "source": [
    "dictSet = set()\n",
    "dictSetNested = set()\n",
    "for key_ in json_data['facts'].keys():\n",
    "    # print(json_data['facts'][key_], '\\n\\n')\n",
    "    for list_item in json_data['facts'][key_]:\n",
    "        for listKey in list_item.keys():\n",
    "            dictSet.add(listKey)\n",
    "            if isinstance(list_item[listKey], dict):\n",
    "                # print(list_item[listKey])\n",
    "                for nestedKey_ in list_item[listKey].keys():\n",
    "                    # print(nestedKey_, list_item[listKey][nestedKey_])\n",
    "                    for nestedKey__, value_ in list_item[listKey][nestedKey_].items():\n",
    "                        # print(nestedKey__, value_)\n",
    "                        dictSetNested.add(nestedKey__)\n",
    "            \n",
    "# print('\\n\\n', dictSet, '\\n\\n', dictSetNested)"
   ]
  },
  {
   "cell_type": "markdown",
   "metadata": {},
   "source": [
    "check inclusion 1<br>\n",
    "Use this code for id 15"
   ]
  },
  {
   "cell_type": "code",
   "execution_count": 3162,
   "metadata": {},
   "outputs": [],
   "source": [
    "dataDict = {'factDefId':[], 'attributes_attributeDefId':[], 'attributes_value':[], 'attributes_unitDefId':[]}\n",
    "# dictSet = set()\n",
    "# dictSetNested = set()\n",
    "json_ = json_data['facts']\n",
    "# print(type(json_))\n",
    "for key_0 in json_.keys():\n",
    "    # print(json_data['facts'][key_], '\\n\\n')\n",
    "    for list_item in json_[key_0]:\n",
    "        dataDict_ = {'factDefId':[], 'attributes_attributeDefId':[], 'attributes_value':[], 'attributes_unitDefId':[]}\n",
    "        for key_1, value_1 in list_item.items():\n",
    "            # print(listKey)\n",
    "            if isinstance(value_1, str):\n",
    "                # dataDict[key_1].append(value_1)\n",
    "                dataDict_[key_1] = value_1\n",
    "            elif isinstance(value_1, dict):\n",
    "                # print(list_item[listKey])\n",
    "                for key_2, value_2 in value_1.items():\n",
    "                    if isinstance(value_2, str):\n",
    "                        jointKey = '_'.join([key_1, key_2])\n",
    "                        # print('#18', jointKey)\n",
    "                        # dataDict[jointKey].append(value_2)\n",
    "                        dataDict_[jointKey] = value_2\n",
    "                    elif isinstance(value_2, dict):\n",
    "                        for key_3, value_3 in value_2.items():\n",
    "                            jointKey = '_'.join([key_1, key_3])\n",
    "                            # print('#23', jointKey)\n",
    "                            # dataDict[jointKey].append(value_3)\n",
    "                            dataDict_[jointKey] = value_3\n",
    "                            # print(key_3, value_3)\n",
    "                            # pass\n",
    "        for key in dataDict.keys():\n",
    "                        if dataDict_[key]:\n",
    "                            dataDict[key].append(str(dataDict_[key]))\n",
    "                        else:\n",
    "                            dataDict[key].append(None)\n",
    "# print('\\n\\n', dataDict)"
   ]
  },
  {
   "cell_type": "code",
   "execution_count": 3163,
   "metadata": {},
   "outputs": [],
   "source": [
    "for subKey in dataDict.keys():\n",
    "    plain_dict['_'.join(['facts', subKey])] = dataDict[subKey]"
   ]
  },
  {
   "cell_type": "code",
   "execution_count": 3164,
   "metadata": {},
   "outputs": [],
   "source": [
    "plain_dict['variantGroups'] = json_data['variantGroups']"
   ]
  },
  {
   "cell_type": "code",
   "execution_count": 3165,
   "metadata": {},
   "outputs": [],
   "source": [
    "textsData = {}\n",
    "for data_ in json_data['texts']['en']['sections']:\n",
    "    dataItems = data_.items()\n",
    "    key = ''\n",
    "    value = ''\n",
    "    for key_, value_ in dataItems:\n",
    "        if key_ == 'title':\n",
    "            key = value_\n",
    "        else:\n",
    "            textsData['_'.join(['texts','en',key])] = value_\n",
    "# print(textsData)"
   ]
  },
  {
   "cell_type": "code",
   "execution_count": 3166,
   "metadata": {},
   "outputs": [],
   "source": [
    "for data_ in json_data['texts']['en-US']['sections']:\n",
    "    dataItems = data_.items()\n",
    "    key = ''\n",
    "    value = ''\n",
    "    for key_, value_ in dataItems:\n",
    "        if key_ == 'title':\n",
    "            key = value_\n",
    "        else:\n",
    "            textsData['_'.join(['texts','en-US',key])] = value_\n",
    "# print(textsData)"
   ]
  },
  {
   "cell_type": "code",
   "execution_count": 3167,
   "metadata": {},
   "outputs": [],
   "source": [
    "for subKey in textsData.keys():\n",
    "    plain_dict[subKey] = textsData[subKey]"
   ]
  },
  {
   "cell_type": "code",
   "execution_count": 3168,
   "metadata": {},
   "outputs": [
    {
     "data": {
      "text/plain": [
       "(dict_keys(['giataId', 'names_value', 'names_locale', 'city_giataId', 'city_value', 'city_locale', 'destination_giataId', 'destination_value', 'destination_locale', 'country_code', 'country_value', 'country_locale', 'source', 'ratings_value', 'addresses_value_addressLines', 'addresses_street', 'addresses_streetNum', 'addresses_zip', 'addresses_cityName', 'addresses_federalStateName', 'addresses_federalStateCode', 'addresses_poBox', 'phones_phone', 'phones_fax', 'emails', 'urls', 'geoCodes_latitude', 'geoCodes_longitude', 'geoCodes_accuracy', 'chains_giataId', 'chains_names', 'images_id', 'images_motifType', 'images_lastUpdate', 'images_heroImage', 'images_baseName', 'images_sizes', 'images_herf', 'facts_factDefId', 'facts_attributes_attributeDefId', 'facts_attributes_value', 'facts_attributes_unitDefId', 'variantGroups', 'texts_en_Location', 'texts_en_Facilities', 'texts_en_Rooms', 'texts_en_Sports/Entertainment', 'texts_en_Meals', 'texts_en_Payment', 'texts_en-US_Location', 'texts_en-US_Facilities', 'texts_en-US_Rooms', 'texts_en-US_Sports/Entertainment', 'texts_en-US_Meals', 'texts_en-US_Payment']),\n",
       " 55)"
      ]
     },
     "execution_count": 3168,
     "metadata": {},
     "output_type": "execute_result"
    }
   ],
   "source": [
    "# plain_dict.keys() , len(plain_dict.keys())"
   ]
  },
  {
   "cell_type": "code",
   "execution_count": 3169,
   "metadata": {
    "scrolled": true
   },
   "outputs": [
    {
     "name": "stdout",
     "output_type": "stream",
     "text": [
      "69\n",
      "{'texts_en-US_Meals', 'chains_giataId', 'facts_attributes_unitDefId', 'roomTypes_categoryInformation_attributeDefId', 'roomTypes_viewInformation_name', 'texts_en-US_Payment', 'texts_en-US_Location', 'geoCodes_latitude', 'country_code', 'addresses_poBox', 'phones_phone', 'facts_factDefId', 'addresses_federalStateName', 'texts_en_Payment', 'addresses_streetNum', 'roomTypes_categoryInformation_name', 'country_value', 'country_locale', 'images_baseName', 'city_giataId', 'city_value', 'images_herf', 'texts_en_Location', 'roomTypes_category', 'images_sizes', 'texts_en_Meals', 'names_value', 'destination_value', 'roomTypes_viewInformation_attributeDefId', 'addresses_cityName', 'ratings_value', 'roomTypes_name', 'texts_en_Rooms', 'roomTypes_typeInformation_attributeDefId', 'roomTypes_code', 'texts_en_Sports/Entertainment', 'roomTypes_typeInformation_name', 'texts_en_Facilities', 'source', 'images_lastUpdate', 'images_heroImage', 'images_id', 'variantGroups', 'geoCodes_accuracy', 'roomTypes_imageRelations', 'images_motifType', 'roomTypes_view', 'chains_names', 'addresses_street', 'destination_locale', 'giataId', 'roomTypes_type', 'texts_en-US_Rooms', 'addresses_federalState', 'texts_en-US_Sports/Entertainment', 'facts_attributes_value', 'roomTypes_variantId', 'urls', 'phones_fax', 'names_locale', 'texts_en-US_Facilities', 'emails', 'facts_attributes_attributeDefId', 'addresses_value_addressLines', 'addresses_zip', 'addresses_federalStateCode', 'geoCodes_longitude', 'destination_giataId', 'city_locale'} 69\n"
     ]
    }
   ],
   "source": [
    "# dfKeys = ['giataId', 'names_locale', 'names_value', 'country_code', 'source', 'country_locale', 'country_value', 'destination_giataId', 'destination_locale', 'destination_value', 'addresses_cityName', 'addresses_federalState', 'addresses_federalStateCode', 'addresses_federalStateName', 'addresses_poBox', 'addresses_street', 'addresses_streetNum', 'addresses_value_addressLines', 'addresses_zip', 'chains_giataId', 'chains_names', 'city_giataId', 'city_locale', 'city_value', 'emails', 'urls', 'facts_attributes_attributeDefId', 'facts_attributes_unitDefId', 'facts_attributes_value', 'facts_factDefId', 'geoCodes_accuracy', 'geoCodes_latitude', 'geoCodes_longitude', 'images_baseName', 'images_herf', 'images_heroImage', 'images_id', 'images_lastUpdate', 'images_motifType', 'images_sizes', 'phones_fax', 'phones_phone', 'ratings_value', 'roomTypes_category', 'roomTypes_categoryInformation_attributeDefId', 'roomTypes_categoryInformation_name', 'roomTypes_code', 'roomTypes_imageRelations', 'roomTypes_name', 'roomTypes_type', 'roomTypes_typeInformation_attributeDefId', 'roomTypes_typeInformation_name', 'roomTypes_variantId', 'roomTypes_view', 'roomTypes_viewInformation_attributeDefId', 'roomTypes_viewInformation_name', 'texts_en_Facilities', 'texts_en_Location', 'texts_en_Meals', 'texts_en_Payment', 'texts_en_Rooms', 'texts_en_Sports/Entertainment', 'texts_en-US_Facilities', 'texts_en-US_Location', 'texts_en-US_Meals', 'texts_en-US_Payment', 'texts_en-US_Rooms', 'texts_en-US_Sports/Entertainment', 'variantGroups']\n",
    "\n",
    "# # finalDfKeys = set()\n",
    "# print(len(finalDfKeys))\n",
    "# finalDfKeys = set(dfKeys).union(set(list(plain_dict.keys())))\n",
    "\n",
    "# print(finalDfKeys, len(finalDfKeys))"
   ]
  },
  {
   "cell_type": "code",
   "execution_count": 3170,
   "metadata": {},
   "outputs": [],
   "source": [
    "# if len(dfKeys)< len(finalDfKeys):\n",
    "#     dfKeys = list(finalDfKeys)"
   ]
  },
  {
   "cell_type": "code",
   "execution_count": 3171,
   "metadata": {},
   "outputs": [],
   "source": [
    "# 54\n",
    "# {'texts_en-US_Meals', 'chains_giataId', 'facts_attributes_unitDefId', 'texts_en-US_Payment', 'texts_en-US_Location', 'geoCodes_latitude', 'country_code', 'addresses_poBox', 'phones_phone', 'facts_factDefId', 'texts_en_Payment', 'addresses_streetNum', 'country_value', 'country_locale', 'images_baseName', 'city_giataId', 'city_value', 'images_herf', 'texts_en_Location', 'images_sizes', 'texts_en_Meals', 'names_value', 'destination_value', 'ratings_value', 'addresses_cityName', 'texts_en_Rooms', 'texts_en_Sports/Entertainment', 'texts_en_Facilities', 'source', 'images_lastUpdate', 'images_heroImage', 'images_id', 'variantGroups', 'geoCodes_accuracy', 'images_motifType', 'chains_names', 'addresses_street', 'destination_locale', 'giataId', 'texts_en-US_Rooms', 'addresses_federalState', 'texts_en-US_Sports/Entertainment', 'facts_attributes_value', 'phones_fax', 'urls', 'names_locale', 'texts_en-US_Facilities', 'emails', 'facts_attributes_attributeDefId', 'addresses_value_addressLines', 'addresses_zip', 'geoCodes_longitude', 'destination_giataId', 'city_locale'}"
   ]
  },
  {
   "cell_type": "code",
   "execution_count": 3172,
   "metadata": {},
   "outputs": [
    {
     "name": "stdout",
     "output_type": "stream",
     "text": [
      "(10, 69)\n"
     ]
    }
   ],
   "source": [
    "df_dictionary = pd.DataFrame([plain_dict])\n",
    "output = pd.concat([output, df_dictionary], ignore_index=True)\n",
    "print(output.shape)"
   ]
  },
  {
   "cell_type": "code",
   "execution_count": 3176,
   "metadata": {},
   "outputs": [],
   "source": [
    "output.to_csv('./data/tempResult1.csv', index=False)"
   ]
  },
  {
   "cell_type": "code",
   "execution_count": 3174,
   "metadata": {},
   "outputs": [],
   "source": [
    "# print(sorted(dfKeys))\n",
    "# plain_dict"
   ]
  },
  {
   "cell_type": "code",
   "execution_count": 3175,
   "metadata": {},
   "outputs": [],
   "source": [
    "# len(['giataId', 'names_locale', 'names_value', 'country_code', 'source', 'country_locale', 'country_value', 'destination_giataId', 'destination_locale', 'destination_value', 'addresses_cityName', 'addresses_federalState', 'addresses_federalStateCode', 'addresses_federalStateName', 'addresses_poBox', 'addresses_street', 'addresses_streetNum', 'addresses_value_addressLines', 'addresses_zip', 'chains_giataId', 'chains_names', 'city_giataId', 'city_locale', 'city_value', 'emails', 'urls', 'facts_attributes_attributeDefId', 'facts_attributes_unitDefId', 'facts_attributes_value', 'facts_factDefId', 'geoCodes_accuracy', 'geoCodes_latitude', 'geoCodes_longitude', 'images_baseName', 'images_herf', 'images_heroImage', 'images_id', 'images_lastUpdate', 'images_motifType', 'images_sizes', 'phones_fax', 'phones_phone', 'ratings_value', 'roomTypes_category', 'roomTypes_categoryInformation_attributeDefId', 'roomTypes_categoryInformation_name', 'roomTypes_code', 'roomTypes_imageRelations', 'roomTypes_name', 'roomTypes_type', 'roomTypes_typeInformation_attributeDefId', 'roomTypes_typeInformation_name', 'roomTypes_variantId', 'roomTypes_view', 'roomTypes_viewInformation_attributeDefId', 'roomTypes_viewInformation_name', 'texts_en_Facilities', 'texts_en_Location', 'texts_en_Meals', 'texts_en_Payment', 'texts_en_Rooms', 'texts_en_Sports/Entertainment', 'texts_en-US_Facilities', 'texts_en-US_Location', 'texts_en-US_Meals', 'texts_en-US_Payment', 'texts_en-US_Rooms', 'texts_en-US_Sports/Entertainment', 'variantGroups'])"
   ]
  }
 ],
 "metadata": {
  "kernelspec": {
   "display_name": "Python 3 (ipykernel)",
   "language": "python",
   "name": "python3"
  },
  "language_info": {
   "codemirror_mode": {
    "name": "ipython",
    "version": 3
   },
   "file_extension": ".py",
   "mimetype": "text/x-python",
   "name": "python",
   "nbconvert_exporter": "python",
   "pygments_lexer": "ipython3",
   "version": "3.10.12"
  }
 },
 "nbformat": 4,
 "nbformat_minor": 4
}
