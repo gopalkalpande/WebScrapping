{
 "cells": [
  {
   "cell_type": "code",
   "execution_count": 18,
   "id": "0df03836-784b-4e60-af1f-9bffe73296f8",
   "metadata": {},
   "outputs": [],
   "source": [
    "keys = ['giataId', 'names', 'city', 'destination', 'country', 'source', 'ratings', 'addresses', 'phones', 'emails', 'urls', 'geoCodes', 'chains', 'roomTypes', 'images', 'facts', 'variantGroups', 'texts']"
   ]
  },
  {
   "cell_type": "code",
   "execution_count": 19,
   "id": "2875ace5-c56f-4047-8883-ed1625d183c8",
   "metadata": {},
   "outputs": [
    {
     "data": {
      "text/plain": [
       "(['giataId',\n",
       "  'names',\n",
       "  'city',\n",
       "  'destination',\n",
       "  'country',\n",
       "  'source',\n",
       "  'ratings',\n",
       "  'addresses',\n",
       "  'phones',\n",
       "  'emails',\n",
       "  'urls',\n",
       "  'geoCodes',\n",
       "  'chains',\n",
       "  'roomTypes',\n",
       "  'images',\n",
       "  'facts',\n",
       "  'variantGroups',\n",
       "  'texts'],\n",
       " 18)"
      ]
     },
     "execution_count": 19,
     "metadata": {},
     "output_type": "execute_result"
    }
   ],
   "source": [
    "keys, len(keys)"
   ]
  },
  {
   "cell_type": "code",
   "execution_count": 47,
   "id": "665c0b9b-3c88-458d-b1a4-1504423e377b",
   "metadata": {},
   "outputs": [],
   "source": [
    "updatedKeys = ['giataId', 'names', 'city', 'destination', 'country', 'source', 'ratings', 'addresses', 'phones', 'urls', 'geoCodes', 'chains', 'images', 'facts', 'variantGroups', 'texts']"
   ]
  },
  {
   "cell_type": "code",
   "execution_count": 50,
   "id": "a7c0aa13-0350-4cda-9fec-3789ddc2632a",
   "metadata": {},
   "outputs": [],
   "source": [
    "k = set(keys).union(set(updatedKeys))"
   ]
  },
  {
   "cell_type": "code",
   "execution_count": 51,
   "id": "a5aaaca9-d7cf-4456-87ca-852348514549",
   "metadata": {},
   "outputs": [
    {
     "data": {
      "text/plain": [
       "{'addresses',\n",
       " 'chains',\n",
       " 'city',\n",
       " 'country',\n",
       " 'destination',\n",
       " 'emails',\n",
       " 'facts',\n",
       " 'geoCodes',\n",
       " 'giataId',\n",
       " 'images',\n",
       " 'names',\n",
       " 'phones',\n",
       " 'ratings',\n",
       " 'roomTypes',\n",
       " 'source',\n",
       " 'texts',\n",
       " 'urls',\n",
       " 'variantGroups'}"
      ]
     },
     "execution_count": 51,
     "metadata": {},
     "output_type": "execute_result"
    }
   ],
   "source": [
    "k"
   ]
  },
  {
   "cell_type": "code",
   "execution_count": 48,
   "id": "c0e2d24b-d6e5-4dba-85ba-26454d8c1366",
   "metadata": {},
   "outputs": [
    {
     "data": {
      "text/plain": [
       "{'emails', 'roomTypes'}"
      ]
     },
     "execution_count": 48,
     "metadata": {},
     "output_type": "execute_result"
    }
   ],
   "source": [
    "missingKeys1 = set(keys).difference(updatedKeys)\n",
    "missingKeys1"
   ]
  },
  {
   "cell_type": "code",
   "execution_count": 49,
   "id": "5812f70c-1e46-4d8f-b18d-166d26ee0eaf",
   "metadata": {},
   "outputs": [
    {
     "data": {
      "text/plain": [
       "set()"
      ]
     },
     "execution_count": 49,
     "metadata": {},
     "output_type": "execute_result"
    }
   ],
   "source": [
    "missingKeys2 = set(updatedKeys).difference(keys)\n",
    "missingKeys2"
   ]
  },
  {
   "cell_type": "code",
   "execution_count": 52,
   "id": "ed6af442-c3a4-47bb-9bb8-b7279417e04a",
   "metadata": {},
   "outputs": [],
   "source": [
    "dfKeys = ['giataId', 'names_value', 'names_locale', 'city_giataId', 'city_value', 'city_locale', 'destination_giataId', 'destination_value', 'destination_locale', 'country_code', 'country_value', 'country_locale', 'source', 'ratings_value', 'addresses_value_addressLines', 'addresses_street', 'addresses_streetNum', 'addresses_zip', 'addresses_cityName', 'addresses_federalState', 'addresses_poBox', 'phones_phone', 'phones_fax', 'emails', 'urls', 'geoCodes_latitude', 'geoCodes_longitude', 'geoCodes_accuracy', 'chains_giataId', 'chains_names', 'images_id', 'images_motifType', 'images_lastUpdate', 'images_heroImage', 'images_baseName', 'images_sizes', 'images_herf', 'facts_factDefId', 'facts_attributes_attributeDefId', 'facts_attributes_value', 'facts_attributes_unitDefId', 'variantGroups', 'texts_en_Location', 'texts_en_Facilities', 'texts_en_Rooms', 'texts_en_Sports/Entertainment', 'texts_en_Meals', 'texts_en_Payment', 'texts_en-US_Location', 'texts_en-US_Facilities', 'texts_en-US_Rooms', 'texts_en-US_Sports/Entertainment', 'texts_en-US_Meals', 'texts_en-US_Payment']"
   ]
  },
  {
   "cell_type": "code",
   "execution_count": 53,
   "id": "27a9d6f6-914d-4ef5-a001-8e6298e9a9a7",
   "metadata": {},
   "outputs": [],
   "source": [
    "# dfKeys"
   ]
  },
  {
   "cell_type": "code",
   "execution_count": 54,
   "id": "77a54e22-7bcb-4fa2-8876-576a58a24635",
   "metadata": {},
   "outputs": [],
   "source": [
    "dfKeysUpdated = ['texts_en-US_Meals', 'chains_giataId', 'facts_attributes_unitDefId', 'roomTypes_categoryInformation_attributeDefId', 'roomTypes_viewInformation_name', 'texts_en-US_Payment', 'texts_en-US_Location', 'geoCodes_latitude', 'country_code', 'addresses_poBox', 'phones_phone', 'facts_factDefId', 'addresses_federalStateName', 'texts_en_Payment', 'addresses_streetNum', 'roomTypes_categoryInformation_name', 'country_value', 'country_locale', 'images_baseName', 'city_giataId', 'city_value', 'images_herf', 'texts_en_Location', 'roomTypes_category', 'images_sizes', 'texts_en_Meals', 'names_value', 'destination_value', 'roomTypes_viewInformation_attributeDefId', 'ratings_value', 'addresses_cityName', 'texts_en_Rooms', 'roomTypes_name', 'texts_en_Sports/Entertainment', 'roomTypes_typeInformation_attributeDefId', 'roomTypes_code', 'roomTypes_typeInformation_name', 'texts_en_Facilities', 'source', 'images_lastUpdate', 'images_heroImage', 'images_id', 'variantGroups', 'geoCodes_accuracy', 'roomTypes_imageRelations', 'images_motifType', 'roomTypes_view', 'chains_names', 'addresses_street', 'destination_locale', 'giataId', 'roomTypes_type', 'texts_en-US_Rooms', 'addresses_federalState', 'texts_en-US_Sports/Entertainment', 'facts_attributes_value', 'roomTypes_variantId', 'phones_fax', 'urls', 'names_locale', 'texts_en-US_Facilities', 'emails', 'facts_attributes_attributeDefId', 'addresses_value_addressLines', 'addresses_zip', 'addresses_federalStateCode', 'geoCodes_longitude', 'destination_giataId', 'city_locale'] \n",
    "# ['giataId', 'names_value', 'names_locale', 'city_giataId', 'city_value', 'city_locale', 'destination_giataId', 'destination_value', 'destination_locale', 'country_code', 'country_value', 'country_locale', 'source', 'ratings_value', 'addresses_value_addressLines', 'addresses_street', 'addresses_streetNum', 'addresses_zip', 'addresses_cityName', 'addresses_federalState', 'addresses_poBox', 'phones_phone', 'phones_fax', 'emails', 'urls', 'geoCodes_latitude', 'geoCodes_longitude', 'geoCodes_accuracy', 'chains_giataId', 'chains_names', 'images_id', 'images_motifType', 'images_lastUpdate', 'images_heroImage', 'images_baseName', 'images_sizes', 'images_herf', 'facts_factDefId', 'facts_attributes_attributeDefId', 'facts_attributes_value', 'facts_attributes_unitDefId', 'variantGroups', 'texts_en_Location', 'texts_en_Facilities', 'texts_en_Rooms', 'texts_en_Sports/Entertainment', 'texts_en_Meals', 'texts_en_Payment', 'texts_en-US_Location', 'texts_en-US_Facilities', 'texts_en-US_Rooms', 'texts_en-US_Sports/Entertainment', 'texts_en-US_Meals', 'texts_en-US_Payment']"
   ]
  },
  {
   "cell_type": "code",
   "execution_count": 55,
   "id": "79993140-2905-417f-a904-3b2259857e14",
   "metadata": {},
   "outputs": [
    {
     "data": {
      "text/plain": [
       "(54, 69)"
      ]
     },
     "execution_count": 55,
     "metadata": {},
     "output_type": "execute_result"
    }
   ],
   "source": [
    "len(dfKeys), len(dfKeysUpdated)"
   ]
  },
  {
   "cell_type": "code",
   "execution_count": 56,
   "id": "8f603998-c8c7-4e43-9da7-196af3637df8",
   "metadata": {},
   "outputs": [
    {
     "data": {
      "text/plain": [
       "set()"
      ]
     },
     "execution_count": 56,
     "metadata": {},
     "output_type": "execute_result"
    }
   ],
   "source": [
    "missingDfKeys1 = set(dfKeys).difference(dfKeysUpdated)\n",
    "missingDfKeys1"
   ]
  },
  {
   "cell_type": "code",
   "execution_count": 57,
   "id": "6d8ebe40-171b-41b3-acc1-f75d94b3ca09",
   "metadata": {},
   "outputs": [
    {
     "data": {
      "text/plain": [
       "{'addresses_federalStateCode',\n",
       " 'addresses_federalStateName',\n",
       " 'roomTypes_category',\n",
       " 'roomTypes_categoryInformation_attributeDefId',\n",
       " 'roomTypes_categoryInformation_name',\n",
       " 'roomTypes_code',\n",
       " 'roomTypes_imageRelations',\n",
       " 'roomTypes_name',\n",
       " 'roomTypes_type',\n",
       " 'roomTypes_typeInformation_attributeDefId',\n",
       " 'roomTypes_typeInformation_name',\n",
       " 'roomTypes_variantId',\n",
       " 'roomTypes_view',\n",
       " 'roomTypes_viewInformation_attributeDefId',\n",
       " 'roomTypes_viewInformation_name'}"
      ]
     },
     "execution_count": 57,
     "metadata": {},
     "output_type": "execute_result"
    }
   ],
   "source": [
    "missingDfKeys2 = set(dfKeysUpdated).difference(dfKeys)\n",
    "missingDfKeys2"
   ]
  },
  {
   "cell_type": "code",
   "execution_count": null,
   "id": "0f9ff9c0-0f39-47fa-b04c-dfb6f1bf7101",
   "metadata": {},
   "outputs": [],
   "source": []
  }
 ],
 "metadata": {
  "kernelspec": {
   "display_name": "Python 3 (ipykernel)",
   "language": "python",
   "name": "python3"
  },
  "language_info": {
   "codemirror_mode": {
    "name": "ipython",
    "version": 3
   },
   "file_extension": ".py",
   "mimetype": "text/x-python",
   "name": "python",
   "nbconvert_exporter": "python",
   "pygments_lexer": "ipython3",
   "version": "3.10.12"
  }
 },
 "nbformat": 4,
 "nbformat_minor": 5
}
